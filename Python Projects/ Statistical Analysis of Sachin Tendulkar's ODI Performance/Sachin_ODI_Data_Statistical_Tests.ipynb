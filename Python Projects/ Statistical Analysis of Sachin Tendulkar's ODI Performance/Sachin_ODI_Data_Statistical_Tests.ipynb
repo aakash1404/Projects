{
 "cells": [
  {
   "cell_type": "code",
   "execution_count": 1,
   "id": "2ae4a50c",
   "metadata": {},
   "outputs": [],
   "source": [
    "import pandas as pd\n",
    "import matplotlib.pyplot as plt\n",
    "import seaborn as sns\n",
    "from scipy.stats import ttest_ind\n",
    "from scipy.stats import chi2_contingency\n",
    "from scipy.stats import kruskal\n",
    "from scipy.stats import normaltest\n",
    "import warnings"
   ]
  },
  {
   "cell_type": "code",
   "execution_count": 2,
   "id": "4750a791",
   "metadata": {},
   "outputs": [],
   "source": [
    "warnings.filterwarnings(action=\"ignore\")"
   ]
  },
  {
   "cell_type": "code",
   "execution_count": 3,
   "id": "13cba590",
   "metadata": {},
   "outputs": [],
   "source": [
    "data=pd.read_csv(\"Sachin_ODI.csv\")"
   ]
  },
  {
   "cell_type": "code",
   "execution_count": 4,
   "id": "628ac8e3",
   "metadata": {},
   "outputs": [
    {
     "data": {
      "text/html": [
       "<div>\n",
       "<style scoped>\n",
       "    .dataframe tbody tr th:only-of-type {\n",
       "        vertical-align: middle;\n",
       "    }\n",
       "\n",
       "    .dataframe tbody tr th {\n",
       "        vertical-align: top;\n",
       "    }\n",
       "\n",
       "    .dataframe thead th {\n",
       "        text-align: right;\n",
       "    }\n",
       "</style>\n",
       "<table border=\"1\" class=\"dataframe\">\n",
       "  <thead>\n",
       "    <tr style=\"text-align: right;\">\n",
       "      <th></th>\n",
       "      <th>runs</th>\n",
       "      <th>NotOut</th>\n",
       "      <th>mins</th>\n",
       "      <th>bf</th>\n",
       "      <th>fours</th>\n",
       "      <th>sixes</th>\n",
       "      <th>sr</th>\n",
       "      <th>Inns</th>\n",
       "      <th>Opp</th>\n",
       "      <th>Ground</th>\n",
       "      <th>Date</th>\n",
       "      <th>Winner</th>\n",
       "      <th>Won</th>\n",
       "      <th>century</th>\n",
       "    </tr>\n",
       "  </thead>\n",
       "  <tbody>\n",
       "    <tr>\n",
       "      <th>0</th>\n",
       "      <td>13</td>\n",
       "      <td>0</td>\n",
       "      <td>30</td>\n",
       "      <td>15</td>\n",
       "      <td>3</td>\n",
       "      <td>0</td>\n",
       "      <td>86.66</td>\n",
       "      <td>1</td>\n",
       "      <td>New Zealand</td>\n",
       "      <td>Napier</td>\n",
       "      <td>1995-02-16</td>\n",
       "      <td>New Zealand</td>\n",
       "      <td>False</td>\n",
       "      <td>False</td>\n",
       "    </tr>\n",
       "    <tr>\n",
       "      <th>1</th>\n",
       "      <td>37</td>\n",
       "      <td>0</td>\n",
       "      <td>75</td>\n",
       "      <td>51</td>\n",
       "      <td>3</td>\n",
       "      <td>1</td>\n",
       "      <td>72.54</td>\n",
       "      <td>2</td>\n",
       "      <td>South Africa</td>\n",
       "      <td>Hamilton</td>\n",
       "      <td>1995-02-18</td>\n",
       "      <td>South Africa</td>\n",
       "      <td>False</td>\n",
       "      <td>False</td>\n",
       "    </tr>\n",
       "    <tr>\n",
       "      <th>2</th>\n",
       "      <td>47</td>\n",
       "      <td>0</td>\n",
       "      <td>65</td>\n",
       "      <td>40</td>\n",
       "      <td>7</td>\n",
       "      <td>0</td>\n",
       "      <td>117.50</td>\n",
       "      <td>2</td>\n",
       "      <td>Australia</td>\n",
       "      <td>Dunedin</td>\n",
       "      <td>1995-02-22</td>\n",
       "      <td>India</td>\n",
       "      <td>True</td>\n",
       "      <td>False</td>\n",
       "    </tr>\n",
       "    <tr>\n",
       "      <th>3</th>\n",
       "      <td>48</td>\n",
       "      <td>0</td>\n",
       "      <td>37</td>\n",
       "      <td>30</td>\n",
       "      <td>9</td>\n",
       "      <td>1</td>\n",
       "      <td>160.00</td>\n",
       "      <td>2</td>\n",
       "      <td>Bangladesh</td>\n",
       "      <td>Sharjah</td>\n",
       "      <td>1995-04-05</td>\n",
       "      <td>India</td>\n",
       "      <td>True</td>\n",
       "      <td>False</td>\n",
       "    </tr>\n",
       "    <tr>\n",
       "      <th>4</th>\n",
       "      <td>4</td>\n",
       "      <td>0</td>\n",
       "      <td>13</td>\n",
       "      <td>9</td>\n",
       "      <td>1</td>\n",
       "      <td>0</td>\n",
       "      <td>44.44</td>\n",
       "      <td>2</td>\n",
       "      <td>Pakistan</td>\n",
       "      <td>Sharjah</td>\n",
       "      <td>1995-04-07</td>\n",
       "      <td>Pakistan</td>\n",
       "      <td>False</td>\n",
       "      <td>False</td>\n",
       "    </tr>\n",
       "  </tbody>\n",
       "</table>\n",
       "</div>"
      ],
      "text/plain": [
       "   runs  NotOut mins  bf  fours  sixes      sr  Inns           Opp    Ground  \\\n",
       "0    13       0   30  15      3      0   86.66     1   New Zealand    Napier   \n",
       "1    37       0   75  51      3      1   72.54     2  South Africa  Hamilton   \n",
       "2    47       0   65  40      7      0  117.50     2     Australia   Dunedin   \n",
       "3    48       0   37  30      9      1  160.00     2    Bangladesh   Sharjah   \n",
       "4     4       0   13   9      1      0   44.44     2      Pakistan   Sharjah   \n",
       "\n",
       "         Date        Winner    Won  century  \n",
       "0  1995-02-16   New Zealand  False    False  \n",
       "1  1995-02-18  South Africa  False    False  \n",
       "2  1995-02-22         India   True    False  \n",
       "3  1995-04-05         India   True    False  \n",
       "4  1995-04-07      Pakistan  False    False  "
      ]
     },
     "execution_count": 4,
     "metadata": {},
     "output_type": "execute_result"
    }
   ],
   "source": [
    "data.head()"
   ]
  },
  {
   "cell_type": "code",
   "execution_count": 5,
   "id": "0021769a",
   "metadata": {},
   "outputs": [
    {
     "data": {
      "text/plain": [
       "(360, 14)"
      ]
     },
     "execution_count": 5,
     "metadata": {},
     "output_type": "execute_result"
    }
   ],
   "source": [
    "data.shape"
   ]
  },
  {
   "cell_type": "code",
   "execution_count": 6,
   "id": "0f86fde7",
   "metadata": {},
   "outputs": [
    {
     "data": {
      "text/plain": [
       "runs       0\n",
       "NotOut     0\n",
       "mins       0\n",
       "bf         0\n",
       "fours      0\n",
       "sixes      0\n",
       "sr         0\n",
       "Inns       0\n",
       "Opp        0\n",
       "Ground     0\n",
       "Date       0\n",
       "Winner     0\n",
       "Won        0\n",
       "century    0\n",
       "dtype: int64"
      ]
     },
     "execution_count": 6,
     "metadata": {},
     "output_type": "execute_result"
    }
   ],
   "source": [
    "data.isna().sum()"
   ]
  },
  {
   "cell_type": "code",
   "execution_count": 7,
   "id": "ce3b3633",
   "metadata": {},
   "outputs": [
    {
     "data": {
      "text/plain": [
       "False"
      ]
     },
     "execution_count": 7,
     "metadata": {},
     "output_type": "execute_result"
    }
   ],
   "source": [
    "any(data.duplicated())"
   ]
  },
  {
   "cell_type": "code",
   "execution_count": 8,
   "id": "e3a1eed3",
   "metadata": {},
   "outputs": [
    {
     "data": {
      "text/html": [
       "<div>\n",
       "<style scoped>\n",
       "    .dataframe tbody tr th:only-of-type {\n",
       "        vertical-align: middle;\n",
       "    }\n",
       "\n",
       "    .dataframe tbody tr th {\n",
       "        vertical-align: top;\n",
       "    }\n",
       "\n",
       "    .dataframe thead th {\n",
       "        text-align: right;\n",
       "    }\n",
       "</style>\n",
       "<table border=\"1\" class=\"dataframe\">\n",
       "  <thead>\n",
       "    <tr style=\"text-align: right;\">\n",
       "      <th></th>\n",
       "      <th>runs</th>\n",
       "      <th>NotOut</th>\n",
       "      <th>bf</th>\n",
       "      <th>fours</th>\n",
       "      <th>sixes</th>\n",
       "      <th>sr</th>\n",
       "      <th>Inns</th>\n",
       "    </tr>\n",
       "  </thead>\n",
       "  <tbody>\n",
       "    <tr>\n",
       "      <th>count</th>\n",
       "      <td>360.000000</td>\n",
       "      <td>360.000000</td>\n",
       "      <td>360.000000</td>\n",
       "      <td>360.000000</td>\n",
       "      <td>360.000000</td>\n",
       "      <td>360.000000</td>\n",
       "      <td>360.000000</td>\n",
       "    </tr>\n",
       "    <tr>\n",
       "      <th>mean</th>\n",
       "      <td>43.241667</td>\n",
       "      <td>0.083333</td>\n",
       "      <td>49.394444</td>\n",
       "      <td>4.858333</td>\n",
       "      <td>0.466667</td>\n",
       "      <td>75.295056</td>\n",
       "      <td>1.527778</td>\n",
       "    </tr>\n",
       "    <tr>\n",
       "      <th>std</th>\n",
       "      <td>42.182452</td>\n",
       "      <td>0.276770</td>\n",
       "      <td>41.348576</td>\n",
       "      <td>4.722900</td>\n",
       "      <td>1.057669</td>\n",
       "      <td>34.980677</td>\n",
       "      <td>0.499923</td>\n",
       "    </tr>\n",
       "    <tr>\n",
       "      <th>min</th>\n",
       "      <td>0.000000</td>\n",
       "      <td>0.000000</td>\n",
       "      <td>2.000000</td>\n",
       "      <td>0.000000</td>\n",
       "      <td>0.000000</td>\n",
       "      <td>0.000000</td>\n",
       "      <td>1.000000</td>\n",
       "    </tr>\n",
       "    <tr>\n",
       "      <th>25%</th>\n",
       "      <td>8.000000</td>\n",
       "      <td>0.000000</td>\n",
       "      <td>15.000000</td>\n",
       "      <td>1.000000</td>\n",
       "      <td>0.000000</td>\n",
       "      <td>57.030000</td>\n",
       "      <td>1.000000</td>\n",
       "    </tr>\n",
       "    <tr>\n",
       "      <th>50%</th>\n",
       "      <td>30.000000</td>\n",
       "      <td>0.000000</td>\n",
       "      <td>35.000000</td>\n",
       "      <td>3.000000</td>\n",
       "      <td>0.000000</td>\n",
       "      <td>76.330000</td>\n",
       "      <td>2.000000</td>\n",
       "    </tr>\n",
       "    <tr>\n",
       "      <th>75%</th>\n",
       "      <td>67.000000</td>\n",
       "      <td>0.000000</td>\n",
       "      <td>73.500000</td>\n",
       "      <td>8.000000</td>\n",
       "      <td>1.000000</td>\n",
       "      <td>97.822500</td>\n",
       "      <td>2.000000</td>\n",
       "    </tr>\n",
       "    <tr>\n",
       "      <th>max</th>\n",
       "      <td>200.000000</td>\n",
       "      <td>1.000000</td>\n",
       "      <td>153.000000</td>\n",
       "      <td>25.000000</td>\n",
       "      <td>7.000000</td>\n",
       "      <td>196.550000</td>\n",
       "      <td>2.000000</td>\n",
       "    </tr>\n",
       "  </tbody>\n",
       "</table>\n",
       "</div>"
      ],
      "text/plain": [
       "             runs      NotOut          bf       fours       sixes          sr  \\\n",
       "count  360.000000  360.000000  360.000000  360.000000  360.000000  360.000000   \n",
       "mean    43.241667    0.083333   49.394444    4.858333    0.466667   75.295056   \n",
       "std     42.182452    0.276770   41.348576    4.722900    1.057669   34.980677   \n",
       "min      0.000000    0.000000    2.000000    0.000000    0.000000    0.000000   \n",
       "25%      8.000000    0.000000   15.000000    1.000000    0.000000   57.030000   \n",
       "50%     30.000000    0.000000   35.000000    3.000000    0.000000   76.330000   \n",
       "75%     67.000000    0.000000   73.500000    8.000000    1.000000   97.822500   \n",
       "max    200.000000    1.000000  153.000000   25.000000    7.000000  196.550000   \n",
       "\n",
       "             Inns  \n",
       "count  360.000000  \n",
       "mean     1.527778  \n",
       "std      0.499923  \n",
       "min      1.000000  \n",
       "25%      1.000000  \n",
       "50%      2.000000  \n",
       "75%      2.000000  \n",
       "max      2.000000  "
      ]
     },
     "execution_count": 8,
     "metadata": {},
     "output_type": "execute_result"
    }
   ],
   "source": [
    "data.describe()"
   ]
  },
  {
   "cell_type": "code",
   "execution_count": 9,
   "id": "aed410a3",
   "metadata": {},
   "outputs": [
    {
     "data": {
      "text/html": [
       "<div>\n",
       "<style scoped>\n",
       "    .dataframe tbody tr th:only-of-type {\n",
       "        vertical-align: middle;\n",
       "    }\n",
       "\n",
       "    .dataframe tbody tr th {\n",
       "        vertical-align: top;\n",
       "    }\n",
       "\n",
       "    .dataframe thead th {\n",
       "        text-align: right;\n",
       "    }\n",
       "</style>\n",
       "<table border=\"1\" class=\"dataframe\">\n",
       "  <thead>\n",
       "    <tr style=\"text-align: right;\">\n",
       "      <th></th>\n",
       "      <th>mins</th>\n",
       "      <th>Opp</th>\n",
       "      <th>Ground</th>\n",
       "      <th>Date</th>\n",
       "      <th>Winner</th>\n",
       "    </tr>\n",
       "  </thead>\n",
       "  <tbody>\n",
       "    <tr>\n",
       "      <th>count</th>\n",
       "      <td>360</td>\n",
       "      <td>360</td>\n",
       "      <td>360</td>\n",
       "      <td>360</td>\n",
       "      <td>360</td>\n",
       "    </tr>\n",
       "    <tr>\n",
       "      <th>unique</th>\n",
       "      <td>154</td>\n",
       "      <td>15</td>\n",
       "      <td>85</td>\n",
       "      <td>360</td>\n",
       "      <td>13</td>\n",
       "    </tr>\n",
       "    <tr>\n",
       "      <th>top</th>\n",
       "      <td>-</td>\n",
       "      <td>Sri Lanka</td>\n",
       "      <td>Sharjah</td>\n",
       "      <td>1995-02-16</td>\n",
       "      <td>India</td>\n",
       "    </tr>\n",
       "    <tr>\n",
       "      <th>freq</th>\n",
       "      <td>22</td>\n",
       "      <td>63</td>\n",
       "      <td>31</td>\n",
       "      <td>1</td>\n",
       "      <td>184</td>\n",
       "    </tr>\n",
       "  </tbody>\n",
       "</table>\n",
       "</div>"
      ],
      "text/plain": [
       "       mins        Opp   Ground        Date Winner\n",
       "count   360        360      360         360    360\n",
       "unique  154         15       85         360     13\n",
       "top       -  Sri Lanka  Sharjah  1995-02-16  India\n",
       "freq     22         63       31           1    184"
      ]
     },
     "execution_count": 9,
     "metadata": {},
     "output_type": "execute_result"
    }
   ],
   "source": [
    "data.describe(include=\"object\")"
   ]
  },
  {
   "cell_type": "code",
   "execution_count": 10,
   "id": "0bae8814",
   "metadata": {},
   "outputs": [
    {
     "data": {
      "text/plain": [
       "runs         int64\n",
       "NotOut       int64\n",
       "mins        object\n",
       "bf           int64\n",
       "fours        int64\n",
       "sixes        int64\n",
       "sr         float64\n",
       "Inns         int64\n",
       "Opp         object\n",
       "Ground      object\n",
       "Date        object\n",
       "Winner      object\n",
       "Won           bool\n",
       "century       bool\n",
       "dtype: object"
      ]
     },
     "execution_count": 10,
     "metadata": {},
     "output_type": "execute_result"
    }
   ],
   "source": [
    "data.dtypes"
   ]
  },
  {
   "cell_type": "code",
   "execution_count": 11,
   "id": "3eb5216e",
   "metadata": {},
   "outputs": [],
   "source": [
    "data[\"Date\"]=pd.to_datetime(data[\"Date\"],format=\"%Y-%m-%d\")"
   ]
  },
  {
   "cell_type": "code",
   "execution_count": 12,
   "id": "bc044819",
   "metadata": {},
   "outputs": [],
   "source": [
    "data[\"Inns\"]=data[\"Inns\"].astype(\"str\")"
   ]
  },
  {
   "cell_type": "code",
   "execution_count": 13,
   "id": "4672280e",
   "metadata": {},
   "outputs": [],
   "source": [
    "data[\"month\"]=data[\"Date\"].dt.month\n",
    "data[\"year\"]=data[\"Date\"].dt.year"
   ]
  },
  {
   "cell_type": "markdown",
   "id": "59805ffc",
   "metadata": {},
   "source": [
    "--------------------------------------------------------------------------------------------------------------------------------"
   ]
  },
  {
   "cell_type": "markdown",
   "id": "fe8432a4",
   "metadata": {},
   "source": [
    "--------------------------------------------------------------------------------------------------------------------------------"
   ]
  },
  {
   "cell_type": "markdown",
   "id": "3ad1a4e1",
   "metadata": {},
   "source": [
    "### All calculations are done at a 5 percent signifance level."
   ]
  },
  {
   "cell_type": "code",
   "execution_count": 14,
   "id": "c9b33a88",
   "metadata": {},
   "outputs": [],
   "source": [
    "alpha=0.05"
   ]
  },
  {
   "cell_type": "code",
   "execution_count": 15,
   "id": "82728c9c",
   "metadata": {},
   "outputs": [],
   "source": [
    "def crosstab(x,y):\n",
    "    \"\"\"\n",
    "    This function returns a crosstab for two categorical columns from the dataset\n",
    "    \"\"\"\n",
    "    return pd.crosstab(index=data[x],columns=data[y])"
   ]
  },
  {
   "cell_type": "code",
   "execution_count": 16,
   "id": "7db3353f",
   "metadata": {},
   "outputs": [],
   "source": [
    "def chi2test(x,y):\n",
    "    \"\"\"\n",
    "    This function returns p-value for chi-square test between two categorical columns\n",
    "    \"\"\"\n",
    "    _,p,_,_=chi2_contingency(pd.crosstab(index=data[x],columns=data[y]))\n",
    "    return p"
   ]
  },
  {
   "cell_type": "code",
   "execution_count": 17,
   "id": "a92b1a44",
   "metadata": {},
   "outputs": [],
   "source": [
    "def accept_reject(p):\n",
    "    \"\"\"\n",
    "    This function prints if the null hypothesis should be accepted or rejected at global alpha level\n",
    "    \"\"\"\n",
    "    global alpha\n",
    "    if p<alpha:\n",
    "        x=\"Reject H0\"\n",
    "    elif p>=alpha:\n",
    "        x=\"Failed to Reject H0\"\n",
    "    else:\n",
    "        raise ValueError\n",
    "    print(f\"p-value= {p}\")\n",
    "    print(f\"{x} at a {alpha*100}% significance level\")    "
   ]
  },
  {
   "cell_type": "markdown",
   "id": "78f0349d",
   "metadata": {},
   "source": [
    "--------------------------------------------------------------------------------------------------------------------------------"
   ]
  },
  {
   "cell_type": "markdown",
   "id": "2ce3e486",
   "metadata": {},
   "source": [
    "--------------------------------------------------------------------------------------------------------------------------------"
   ]
  },
  {
   "cell_type": "markdown",
   "id": "391b1f26",
   "metadata": {},
   "source": [
    "#### Sachin hitting a century and team winning"
   ]
  },
  {
   "cell_type": "code",
   "execution_count": 18,
   "id": "fb9eac63",
   "metadata": {},
   "outputs": [
    {
     "data": {
      "text/html": [
       "<div>\n",
       "<style scoped>\n",
       "    .dataframe tbody tr th:only-of-type {\n",
       "        vertical-align: middle;\n",
       "    }\n",
       "\n",
       "    .dataframe tbody tr th {\n",
       "        vertical-align: top;\n",
       "    }\n",
       "\n",
       "    .dataframe thead th {\n",
       "        text-align: right;\n",
       "    }\n",
       "</style>\n",
       "<table border=\"1\" class=\"dataframe\">\n",
       "  <thead>\n",
       "    <tr style=\"text-align: right;\">\n",
       "      <th>century</th>\n",
       "      <th>False</th>\n",
       "      <th>True</th>\n",
       "    </tr>\n",
       "    <tr>\n",
       "      <th>Won</th>\n",
       "      <th></th>\n",
       "      <th></th>\n",
       "    </tr>\n",
       "  </thead>\n",
       "  <tbody>\n",
       "    <tr>\n",
       "      <th>False</th>\n",
       "      <td>160</td>\n",
       "      <td>16</td>\n",
       "    </tr>\n",
       "    <tr>\n",
       "      <th>True</th>\n",
       "      <td>154</td>\n",
       "      <td>30</td>\n",
       "    </tr>\n",
       "  </tbody>\n",
       "</table>\n",
       "</div>"
      ],
      "text/plain": [
       "century  False  True \n",
       "Won                  \n",
       "False      160     16\n",
       "True       154     30"
      ]
     },
     "execution_count": 18,
     "metadata": {},
     "output_type": "execute_result"
    }
   ],
   "source": [
    "crosstab(\"Won\",\"century\")"
   ]
  },
  {
   "cell_type": "code",
   "execution_count": 19,
   "id": "2a6c2dc9",
   "metadata": {},
   "outputs": [
    {
     "data": {
      "image/png": "[encoded data removed]",
      "text/plain": [
       "<Figure size 640x480 with 1 Axes>"
      ]
     },
     "metadata": {},
     "output_type": "display_data"
    }
   ],
   "source": [
    "sns.countplot(data,x=\"Won\",hue=\"century\")\n",
    "plt.show()"
   ]
  },
  {
   "cell_type": "markdown",
   "id": "29ffd06d",
   "metadata": {},
   "source": [
    "H0: There is no statistically significant relationship between Sachin hitting a century and team winning.\n",
    "\n",
    "HA: There is a statistically significant relationship between Sachin hitting a century and team winning \n",
    "\n",
    "Significance level= 5%"
   ]
  },
  {
   "cell_type": "code",
   "execution_count": 20,
   "id": "8556dfdd",
   "metadata": {},
   "outputs": [
    {
     "name": "stdout",
     "output_type": "stream",
     "text": [
      "p-value= 0.05856653223833202\n",
      "Failed to Reject H0 at a 5.0% significance level\n"
     ]
    }
   ],
   "source": [
    "p=chi2test(\"Won\",\"century\")\n",
    "accept_reject(p)"
   ]
  },
  {
   "cell_type": "markdown",
   "id": "b4931ce9",
   "metadata": {},
   "source": [
    "Hence, We accept that There is no statistically significant relationship between Sachin hitting a century and team winning."
   ]
  },
  {
   "cell_type": "markdown",
   "id": "82c9dcfd",
   "metadata": {},
   "source": [
    "--------------------------------------------------------------------------------------------------------------------------------"
   ]
  },
  {
   "cell_type": "markdown",
   "id": "17b9f283",
   "metadata": {},
   "source": [
    "--------------------------------------------------------------------------------------------------------------------------------"
   ]
  },
  {
   "cell_type": "markdown",
   "id": "c0176833",
   "metadata": {},
   "source": [
    "#### Sachin remaining Not Out and Team Winning"
   ]
  },
  {
   "cell_type": "code",
   "execution_count": 21,
   "id": "fc77bb5a",
   "metadata": {},
   "outputs": [
    {
     "data": {
      "text/html": [
       "<div>\n",
       "<style scoped>\n",
       "    .dataframe tbody tr th:only-of-type {\n",
       "        vertical-align: middle;\n",
       "    }\n",
       "\n",
       "    .dataframe tbody tr th {\n",
       "        vertical-align: top;\n",
       "    }\n",
       "\n",
       "    .dataframe thead th {\n",
       "        text-align: right;\n",
       "    }\n",
       "</style>\n",
       "<table border=\"1\" class=\"dataframe\">\n",
       "  <thead>\n",
       "    <tr style=\"text-align: right;\">\n",
       "      <th>Won</th>\n",
       "      <th>False</th>\n",
       "      <th>True</th>\n",
       "    </tr>\n",
       "    <tr>\n",
       "      <th>NotOut</th>\n",
       "      <th></th>\n",
       "      <th></th>\n",
       "    </tr>\n",
       "  </thead>\n",
       "  <tbody>\n",
       "    <tr>\n",
       "      <th>0</th>\n",
       "      <td>172</td>\n",
       "      <td>158</td>\n",
       "    </tr>\n",
       "    <tr>\n",
       "      <th>1</th>\n",
       "      <td>4</td>\n",
       "      <td>26</td>\n",
       "    </tr>\n",
       "  </tbody>\n",
       "</table>\n",
       "</div>"
      ],
      "text/plain": [
       "Won     False  True \n",
       "NotOut              \n",
       "0         172    158\n",
       "1           4     26"
      ]
     },
     "execution_count": 21,
     "metadata": {},
     "output_type": "execute_result"
    }
   ],
   "source": [
    "crosstab(\"NotOut\",\"Won\")"
   ]
  },
  {
   "cell_type": "code",
   "execution_count": 22,
   "id": "fa347f3b",
   "metadata": {},
   "outputs": [
    {
     "data": {
      "image/png": "[encoded data removed]",
      "text/plain": [
       "<Figure size 640x480 with 1 Axes>"
      ]
     },
     "metadata": {},
     "output_type": "display_data"
    }
   ],
   "source": [
    "sns.countplot(data,x=\"Won\",hue=\"NotOut\")\n",
    "plt.show()"
   ]
  },
  {
   "cell_type": "markdown",
   "id": "7fcde1be",
   "metadata": {},
   "source": [
    "H0: There is no statistically significant relationship between Sachin remaining not out and team winning.\n",
    "\n",
    "HA: There is a statistically significant relationship between Sachin remaining not out and team winning.\n",
    "\n",
    "Significance level= 5%"
   ]
  },
  {
   "cell_type": "code",
   "execution_count": 23,
   "id": "52e3a05e",
   "metadata": {},
   "outputs": [
    {
     "name": "stdout",
     "output_type": "stream",
     "text": [
      "p-value= 0.0001051577146484091\n",
      "Reject H0 at a 5.0% significance level\n"
     ]
    }
   ],
   "source": [
    "p=chi2test(\"NotOut\",\"Won\")\n",
    "accept_reject(p)"
   ]
  },
  {
   "cell_type": "markdown",
   "id": "74b7e9cb",
   "metadata": {},
   "source": [
    "Hence, There is a statistically significant relationship between Sachin remaining not out and team winning."
   ]
  },
  {
   "cell_type": "markdown",
   "id": "dff7103d",
   "metadata": {},
   "source": [
    "--------------------------------------------------------------------------------------------------------------------------------"
   ]
  },
  {
   "cell_type": "markdown",
   "id": "7ba20b4b",
   "metadata": {},
   "source": [
    "--------------------------------------------------------------------------------------------------------------------------------"
   ]
  },
  {
   "cell_type": "markdown",
   "id": "7d55891b",
   "metadata": {},
   "source": [
    "#### Sachin hitting a Century and Ground"
   ]
  },
  {
   "cell_type": "code",
   "execution_count": 24,
   "id": "02d2610d",
   "metadata": {},
   "outputs": [
    {
     "data": {
      "text/html": [
       "<div>\n",
       "<style scoped>\n",
       "    .dataframe tbody tr th:only-of-type {\n",
       "        vertical-align: middle;\n",
       "    }\n",
       "\n",
       "    .dataframe tbody tr th {\n",
       "        vertical-align: top;\n",
       "    }\n",
       "\n",
       "    .dataframe thead th {\n",
       "        text-align: right;\n",
       "    }\n",
       "</style>\n",
       "<table border=\"1\" class=\"dataframe\">\n",
       "  <thead>\n",
       "    <tr style=\"text-align: right;\">\n",
       "      <th>century</th>\n",
       "      <th>False</th>\n",
       "      <th>True</th>\n",
       "    </tr>\n",
       "    <tr>\n",
       "      <th>Ground</th>\n",
       "      <th></th>\n",
       "      <th></th>\n",
       "    </tr>\n",
       "  </thead>\n",
       "  <tbody>\n",
       "    <tr>\n",
       "      <th>Adelaide</th>\n",
       "      <td>5</td>\n",
       "      <td>0</td>\n",
       "    </tr>\n",
       "    <tr>\n",
       "      <th>Ahmedabad</th>\n",
       "      <td>3</td>\n",
       "      <td>1</td>\n",
       "    </tr>\n",
       "    <tr>\n",
       "      <th>Amritsar</th>\n",
       "      <td>1</td>\n",
       "      <td>0</td>\n",
       "    </tr>\n",
       "    <tr>\n",
       "      <th>Auckland</th>\n",
       "      <td>2</td>\n",
       "      <td>0</td>\n",
       "    </tr>\n",
       "    <tr>\n",
       "      <th>Belfast</th>\n",
       "      <td>4</td>\n",
       "      <td>0</td>\n",
       "    </tr>\n",
       "    <tr>\n",
       "      <th>...</th>\n",
       "      <td>...</td>\n",
       "      <td>...</td>\n",
       "    </tr>\n",
       "    <tr>\n",
       "      <th>The Oval</th>\n",
       "      <td>4</td>\n",
       "      <td>0</td>\n",
       "    </tr>\n",
       "    <tr>\n",
       "      <th>Toronto</th>\n",
       "      <td>11</td>\n",
       "      <td>0</td>\n",
       "    </tr>\n",
       "    <tr>\n",
       "      <th>Vadodara</th>\n",
       "      <td>4</td>\n",
       "      <td>2</td>\n",
       "    </tr>\n",
       "    <tr>\n",
       "      <th>Visakhapatnam</th>\n",
       "      <td>2</td>\n",
       "      <td>0</td>\n",
       "    </tr>\n",
       "    <tr>\n",
       "      <th>Wellington</th>\n",
       "      <td>3</td>\n",
       "      <td>0</td>\n",
       "    </tr>\n",
       "  </tbody>\n",
       "</table>\n",
       "<p>85 rows × 2 columns</p>\n",
       "</div>"
      ],
      "text/plain": [
       "century        False  True \n",
       "Ground                     \n",
       "Adelaide           5      0\n",
       "Ahmedabad          3      1\n",
       "Amritsar           1      0\n",
       "Auckland           2      0\n",
       "Belfast            4      0\n",
       "...              ...    ...\n",
       "The Oval           4      0\n",
       "Toronto           11      0\n",
       "Vadodara           4      2\n",
       "Visakhapatnam      2      0\n",
       "Wellington         3      0\n",
       "\n",
       "[85 rows x 2 columns]"
      ]
     },
     "execution_count": 24,
     "metadata": {},
     "output_type": "execute_result"
    }
   ],
   "source": [
    "crosstab(\"Ground\",\"century\")"
   ]
  },
  {
   "cell_type": "markdown",
   "id": "8a4f2c4b",
   "metadata": {},
   "source": [
    "H0: There is no statistically significant relationship between Sachin's century and ground.\n",
    "\n",
    "HA: There is a statistically significant relationship between Sachin's century and ground.\n",
    "\n",
    "Significance level= 5%"
   ]
  },
  {
   "cell_type": "code",
   "execution_count": 25,
   "id": "58b5e09a",
   "metadata": {},
   "outputs": [
    {
     "name": "stdout",
     "output_type": "stream",
     "text": [
      "p-value= 0.15959923768897666\n",
      "Failed to Reject H0 at a 5.0% significance level\n"
     ]
    }
   ],
   "source": [
    "p=chi2test(\"Ground\",\"century\")\n",
    "accept_reject(p)"
   ]
  },
  {
   "cell_type": "markdown",
   "id": "78c4c200",
   "metadata": {},
   "source": [
    "Hence, We accept that There is no statistically significant relationship between Sachin's century and the ground."
   ]
  },
  {
   "cell_type": "markdown",
   "id": "7761b596",
   "metadata": {},
   "source": [
    "--------------------------------------------------------------------------------------------------------------------------------"
   ]
  },
  {
   "cell_type": "markdown",
   "id": "a8bf4d06",
   "metadata": {},
   "source": [
    "--------------------------------------------------------------------------------------------------------------------------------"
   ]
  },
  {
   "cell_type": "markdown",
   "id": "8d81fcc7",
   "metadata": {},
   "source": [
    "#### Sachin hitting a Century and Opposition"
   ]
  },
  {
   "cell_type": "code",
   "execution_count": 26,
   "id": "146a7bb6",
   "metadata": {},
   "outputs": [
    {
     "data": {
      "text/html": [
       "<div>\n",
       "<style scoped>\n",
       "    .dataframe tbody tr th:only-of-type {\n",
       "        vertical-align: middle;\n",
       "    }\n",
       "\n",
       "    .dataframe tbody tr th {\n",
       "        vertical-align: top;\n",
       "    }\n",
       "\n",
       "    .dataframe thead th {\n",
       "        text-align: right;\n",
       "    }\n",
       "</style>\n",
       "<table border=\"1\" class=\"dataframe\">\n",
       "  <thead>\n",
       "    <tr style=\"text-align: right;\">\n",
       "      <th>century</th>\n",
       "      <th>False</th>\n",
       "      <th>True</th>\n",
       "    </tr>\n",
       "    <tr>\n",
       "      <th>Opp</th>\n",
       "      <th></th>\n",
       "      <th></th>\n",
       "    </tr>\n",
       "  </thead>\n",
       "  <tbody>\n",
       "    <tr>\n",
       "      <th>Australia</th>\n",
       "      <td>53</td>\n",
       "      <td>8</td>\n",
       "    </tr>\n",
       "    <tr>\n",
       "      <th>Bangladesh</th>\n",
       "      <td>9</td>\n",
       "      <td>1</td>\n",
       "    </tr>\n",
       "    <tr>\n",
       "      <th>Bermuda</th>\n",
       "      <td>1</td>\n",
       "      <td>0</td>\n",
       "    </tr>\n",
       "    <tr>\n",
       "      <th>England</th>\n",
       "      <td>23</td>\n",
       "      <td>2</td>\n",
       "    </tr>\n",
       "    <tr>\n",
       "      <th>Ireland</th>\n",
       "      <td>2</td>\n",
       "      <td>0</td>\n",
       "    </tr>\n",
       "    <tr>\n",
       "      <th>Kenya</th>\n",
       "      <td>5</td>\n",
       "      <td>4</td>\n",
       "    </tr>\n",
       "    <tr>\n",
       "      <th>Namibia</th>\n",
       "      <td>0</td>\n",
       "      <td>1</td>\n",
       "    </tr>\n",
       "    <tr>\n",
       "      <th>Netherlands</th>\n",
       "      <td>2</td>\n",
       "      <td>0</td>\n",
       "    </tr>\n",
       "    <tr>\n",
       "      <th>New Zealand</th>\n",
       "      <td>28</td>\n",
       "      <td>4</td>\n",
       "    </tr>\n",
       "    <tr>\n",
       "      <th>Pakistan</th>\n",
       "      <td>54</td>\n",
       "      <td>5</td>\n",
       "    </tr>\n",
       "    <tr>\n",
       "      <th>South Africa</th>\n",
       "      <td>39</td>\n",
       "      <td>5</td>\n",
       "    </tr>\n",
       "    <tr>\n",
       "      <th>Sri Lanka</th>\n",
       "      <td>55</td>\n",
       "      <td>8</td>\n",
       "    </tr>\n",
       "    <tr>\n",
       "      <th>U.A.E.</th>\n",
       "      <td>1</td>\n",
       "      <td>0</td>\n",
       "    </tr>\n",
       "    <tr>\n",
       "      <th>West Indies</th>\n",
       "      <td>19</td>\n",
       "      <td>3</td>\n",
       "    </tr>\n",
       "    <tr>\n",
       "      <th>Zimbabwe</th>\n",
       "      <td>23</td>\n",
       "      <td>5</td>\n",
       "    </tr>\n",
       "  </tbody>\n",
       "</table>\n",
       "</div>"
      ],
      "text/plain": [
       "century       False  True \n",
       "Opp                       \n",
       "Australia        53      8\n",
       "Bangladesh        9      1\n",
       "Bermuda           1      0\n",
       "England          23      2\n",
       "Ireland           2      0\n",
       "Kenya             5      4\n",
       "Namibia           0      1\n",
       "Netherlands       2      0\n",
       "New Zealand      28      4\n",
       "Pakistan         54      5\n",
       "South Africa     39      5\n",
       "Sri Lanka        55      8\n",
       "U.A.E.            1      0\n",
       "West Indies      19      3\n",
       "Zimbabwe         23      5"
      ]
     },
     "execution_count": 26,
     "metadata": {},
     "output_type": "execute_result"
    }
   ],
   "source": [
    "crosstab(\"Opp\",\"century\")"
   ]
  },
  {
   "cell_type": "code",
   "execution_count": 27,
   "id": "7a7471f1",
   "metadata": {},
   "outputs": [
    {
     "data": {
      "image/png": "[encoded data removed]",
      "text/plain": [
       "<Figure size 640x480 with 1 Axes>"
      ]
     },
     "metadata": {},
     "output_type": "display_data"
    }
   ],
   "source": [
    "sns.countplot(data,x=\"Opp\",hue=\"century\")\n",
    "plt.xticks(rotation=90)\n",
    "plt.xlabel(\"Opposition\")\n",
    "plt.show()"
   ]
  },
  {
   "cell_type": "markdown",
   "id": "f94644b7",
   "metadata": {},
   "source": [
    "H0: There is no significant relationship relationship between Sachin's century and Opposition.\n",
    "\n",
    "HA: There is a statistically significant relationship between Sachin's century and Opposition.\n",
    "\n",
    "Significance level= 5%"
   ]
  },
  {
   "cell_type": "code",
   "execution_count": 28,
   "id": "71d48004",
   "metadata": {},
   "outputs": [
    {
     "name": "stdout",
     "output_type": "stream",
     "text": [
      "p-value= 0.20159960746150968\n",
      "Failed to Reject H0 at a 5.0% significance level\n"
     ]
    }
   ],
   "source": [
    "p=chi2test(\"Opp\",\"century\")\n",
    "accept_reject(p)"
   ]
  },
  {
   "cell_type": "markdown",
   "id": "264f9bbe",
   "metadata": {},
   "source": [
    "Hence, We accept that There is no statistically significant relationship between Sachin's century and Opposition."
   ]
  },
  {
   "cell_type": "markdown",
   "id": "14743368",
   "metadata": {},
   "source": [
    "--------------------------------------------------------------------------------------------------------------------------------"
   ]
  },
  {
   "cell_type": "markdown",
   "id": "4208680a",
   "metadata": {},
   "source": [
    "--------------------------------------------------------------------------------------------------------------------------------"
   ]
  },
  {
   "cell_type": "markdown",
   "id": "53a05db9",
   "metadata": {},
   "source": [
    "#### Sachin hitting a Century and Month of the year"
   ]
  },
  {
   "cell_type": "code",
   "execution_count": 29,
   "id": "61aa02e8",
   "metadata": {},
   "outputs": [
    {
     "data": {
      "text/html": [
       "<div>\n",
       "<style scoped>\n",
       "    .dataframe tbody tr th:only-of-type {\n",
       "        vertical-align: middle;\n",
       "    }\n",
       "\n",
       "    .dataframe tbody tr th {\n",
       "        vertical-align: top;\n",
       "    }\n",
       "\n",
       "    .dataframe thead th {\n",
       "        text-align: right;\n",
       "    }\n",
       "</style>\n",
       "<table border=\"1\" class=\"dataframe\">\n",
       "  <thead>\n",
       "    <tr style=\"text-align: right;\">\n",
       "      <th>century</th>\n",
       "      <th>False</th>\n",
       "      <th>True</th>\n",
       "    </tr>\n",
       "    <tr>\n",
       "      <th>month</th>\n",
       "      <th></th>\n",
       "      <th></th>\n",
       "    </tr>\n",
       "  </thead>\n",
       "  <tbody>\n",
       "    <tr>\n",
       "      <th>1</th>\n",
       "      <td>37</td>\n",
       "      <td>1</td>\n",
       "    </tr>\n",
       "    <tr>\n",
       "      <th>2</th>\n",
       "      <td>43</td>\n",
       "      <td>6</td>\n",
       "    </tr>\n",
       "    <tr>\n",
       "      <th>3</th>\n",
       "      <td>36</td>\n",
       "      <td>8</td>\n",
       "    </tr>\n",
       "    <tr>\n",
       "      <th>4</th>\n",
       "      <td>26</td>\n",
       "      <td>7</td>\n",
       "    </tr>\n",
       "    <tr>\n",
       "      <th>5</th>\n",
       "      <td>9</td>\n",
       "      <td>3</td>\n",
       "    </tr>\n",
       "    <tr>\n",
       "      <th>6</th>\n",
       "      <td>16</td>\n",
       "      <td>0</td>\n",
       "    </tr>\n",
       "    <tr>\n",
       "      <th>7</th>\n",
       "      <td>14</td>\n",
       "      <td>4</td>\n",
       "    </tr>\n",
       "    <tr>\n",
       "      <th>8</th>\n",
       "      <td>11</td>\n",
       "      <td>2</td>\n",
       "    </tr>\n",
       "    <tr>\n",
       "      <th>9</th>\n",
       "      <td>34</td>\n",
       "      <td>3</td>\n",
       "    </tr>\n",
       "    <tr>\n",
       "      <th>10</th>\n",
       "      <td>34</td>\n",
       "      <td>5</td>\n",
       "    </tr>\n",
       "    <tr>\n",
       "      <th>11</th>\n",
       "      <td>38</td>\n",
       "      <td>5</td>\n",
       "    </tr>\n",
       "    <tr>\n",
       "      <th>12</th>\n",
       "      <td>16</td>\n",
       "      <td>2</td>\n",
       "    </tr>\n",
       "  </tbody>\n",
       "</table>\n",
       "</div>"
      ],
      "text/plain": [
       "century  False  True \n",
       "month                \n",
       "1           37      1\n",
       "2           43      6\n",
       "3           36      8\n",
       "4           26      7\n",
       "5            9      3\n",
       "6           16      0\n",
       "7           14      4\n",
       "8           11      2\n",
       "9           34      3\n",
       "10          34      5\n",
       "11          38      5\n",
       "12          16      2"
      ]
     },
     "execution_count": 29,
     "metadata": {},
     "output_type": "execute_result"
    }
   ],
   "source": [
    "crosstab(\"month\",\"century\")"
   ]
  },
  {
   "cell_type": "markdown",
   "id": "de86bbc8",
   "metadata": {},
   "source": [
    "H0: There is no significant relationship relationship between Sachin hitting a century and Month of the year.\n",
    "\n",
    "HA: There is a statistically significant relationship between Sachin hitting a century and Month of the year.\n",
    "\n",
    "Significance level= 5%"
   ]
  },
  {
   "cell_type": "code",
   "execution_count": 30,
   "id": "6533c4b5",
   "metadata": {},
   "outputs": [
    {
     "name": "stdout",
     "output_type": "stream",
     "text": [
      "p-value= 0.28852323779846606\n",
      "Failed to Reject H0 at a 5.0% significance level\n"
     ]
    }
   ],
   "source": [
    "p=chi2test(\"month\",\"century\")\n",
    "accept_reject(p)"
   ]
  },
  {
   "cell_type": "markdown",
   "id": "75563591",
   "metadata": {},
   "source": [
    "Hence, We accept that There is no significant relationship relationship between Sachin hitting a century and Month of the year."
   ]
  },
  {
   "cell_type": "markdown",
   "id": "f10ea1ab",
   "metadata": {},
   "source": [
    "--------------------------------------------------------------------------------------------------------------------------------"
   ]
  },
  {
   "cell_type": "markdown",
   "id": "ec5ca222",
   "metadata": {},
   "source": [
    "--------------------------------------------------------------------------------------------------------------------------------"
   ]
  },
  {
   "cell_type": "markdown",
   "id": "590bbda5",
   "metadata": {},
   "source": [
    "#### Average runs scored in Won/Lost Matches"
   ]
  },
  {
   "cell_type": "code",
   "execution_count": 31,
   "id": "2c5a3dd1",
   "metadata": {},
   "outputs": [
    {
     "data": {
      "text/html": [
       "<div>\n",
       "<style scoped>\n",
       "    .dataframe tbody tr th:only-of-type {\n",
       "        vertical-align: middle;\n",
       "    }\n",
       "\n",
       "    .dataframe tbody tr th {\n",
       "        vertical-align: top;\n",
       "    }\n",
       "\n",
       "    .dataframe thead th {\n",
       "        text-align: right;\n",
       "    }\n",
       "</style>\n",
       "<table border=\"1\" class=\"dataframe\">\n",
       "  <thead>\n",
       "    <tr style=\"text-align: right;\">\n",
       "      <th></th>\n",
       "      <th>avg_runs</th>\n",
       "    </tr>\n",
       "    <tr>\n",
       "      <th>Won</th>\n",
       "      <th></th>\n",
       "    </tr>\n",
       "  </thead>\n",
       "  <tbody>\n",
       "    <tr>\n",
       "      <th>False</th>\n",
       "      <td>35.130682</td>\n",
       "    </tr>\n",
       "    <tr>\n",
       "      <th>True</th>\n",
       "      <td>51.000000</td>\n",
       "    </tr>\n",
       "  </tbody>\n",
       "</table>\n",
       "</div>"
      ],
      "text/plain": [
       "        avg_runs\n",
       "Won             \n",
       "False  35.130682\n",
       "True   51.000000"
      ]
     },
     "execution_count": 31,
     "metadata": {},
     "output_type": "execute_result"
    }
   ],
   "source": [
    "data.groupby(\"Won\").agg(avg_runs=(\"runs\",\"mean\"))"
   ]
  },
  {
   "cell_type": "code",
   "execution_count": 32,
   "id": "268757ab",
   "metadata": {},
   "outputs": [
    {
     "data": {
      "image/png": "[encoded data removed]",
      "text/plain": [
       "<Figure size 600x300 with 2 Axes>"
      ]
     },
     "metadata": {},
     "output_type": "display_data"
    }
   ],
   "source": [
    "sns.FacetGrid(data,col=\"Won\").map(sns.histplot,\"runs\")\n",
    "plt.show()"
   ]
  },
  {
   "cell_type": "markdown",
   "id": "05fe0a3b",
   "metadata": {},
   "source": [
    "H0: There is no difference in average runs scored by Sachin in Won/Lost matches.\n",
    "    \n",
    "HA: Average runs scored by Sachin in Won matches is greater than those scored in lost matches.\n",
    "\n",
    "Significance Level= 5%"
   ]
  },
  {
   "cell_type": "code",
   "execution_count": 33,
   "id": "b05f9816",
   "metadata": {},
   "outputs": [],
   "source": [
    "won_runs=data.loc[data[\"Won\"]==True,\"runs\"]\n",
    "loss_runs=data.loc[data[\"Won\"]==False,\"runs\"]"
   ]
  },
  {
   "cell_type": "code",
   "execution_count": 34,
   "id": "3c97db93",
   "metadata": {},
   "outputs": [
    {
     "name": "stdout",
     "output_type": "stream",
     "text": [
      "p-value= 0.00016353077486826558\n",
      "Reject H0 at a 5.0% significance level\n"
     ]
    }
   ],
   "source": [
    "_,p=ttest_ind(won_runs,loss_runs,alternative=\"greater\")\n",
    "accept_reject(p)"
   ]
  },
  {
   "cell_type": "markdown",
   "id": "f29364c4",
   "metadata": {},
   "source": [
    "Therefore, Average runs scored by Sachin in Won matches is greater than those scored in lost matches."
   ]
  },
  {
   "cell_type": "markdown",
   "id": "d27d085e",
   "metadata": {},
   "source": [
    "--------------------------------------------------------------------------------------------------------------------------------"
   ]
  },
  {
   "cell_type": "markdown",
   "id": "7bbd4dfb",
   "metadata": {},
   "source": [
    "--------------------------------------------------------------------------------------------------------------------------------"
   ]
  },
  {
   "cell_type": "markdown",
   "id": "c5fc0992",
   "metadata": {},
   "source": [
    "#### Average Runs scored against different opposition"
   ]
  },
  {
   "cell_type": "code",
   "execution_count": 35,
   "id": "0987924e",
   "metadata": {
    "scrolled": false
   },
   "outputs": [
    {
     "data": {
      "text/html": [
       "<div>\n",
       "<style scoped>\n",
       "    .dataframe tbody tr th:only-of-type {\n",
       "        vertical-align: middle;\n",
       "    }\n",
       "\n",
       "    .dataframe tbody tr th {\n",
       "        vertical-align: top;\n",
       "    }\n",
       "\n",
       "    .dataframe thead th {\n",
       "        text-align: right;\n",
       "    }\n",
       "</style>\n",
       "<table border=\"1\" class=\"dataframe\">\n",
       "  <thead>\n",
       "    <tr style=\"text-align: right;\">\n",
       "      <th></th>\n",
       "      <th>Opp</th>\n",
       "      <th>total_runs</th>\n",
       "      <th>avg_runs</th>\n",
       "      <th>inns_count</th>\n",
       "    </tr>\n",
       "  </thead>\n",
       "  <tbody>\n",
       "    <tr>\n",
       "      <th>0</th>\n",
       "      <td>Namibia</td>\n",
       "      <td>152</td>\n",
       "      <td>152.000000</td>\n",
       "      <td>1</td>\n",
       "    </tr>\n",
       "    <tr>\n",
       "      <th>1</th>\n",
       "      <td>Kenya</td>\n",
       "      <td>647</td>\n",
       "      <td>71.888889</td>\n",
       "      <td>9</td>\n",
       "    </tr>\n",
       "    <tr>\n",
       "      <th>2</th>\n",
       "      <td>Bermuda</td>\n",
       "      <td>57</td>\n",
       "      <td>57.000000</td>\n",
       "      <td>1</td>\n",
       "    </tr>\n",
       "    <tr>\n",
       "      <th>3</th>\n",
       "      <td>England</td>\n",
       "      <td>1168</td>\n",
       "      <td>46.720000</td>\n",
       "      <td>25</td>\n",
       "    </tr>\n",
       "    <tr>\n",
       "      <th>4</th>\n",
       "      <td>Bangladesh</td>\n",
       "      <td>460</td>\n",
       "      <td>46.000000</td>\n",
       "      <td>10</td>\n",
       "    </tr>\n",
       "    <tr>\n",
       "      <th>5</th>\n",
       "      <td>Australia</td>\n",
       "      <td>2732</td>\n",
       "      <td>44.786885</td>\n",
       "      <td>61</td>\n",
       "    </tr>\n",
       "    <tr>\n",
       "      <th>6</th>\n",
       "      <td>West Indies</td>\n",
       "      <td>968</td>\n",
       "      <td>44.000000</td>\n",
       "      <td>22</td>\n",
       "    </tr>\n",
       "    <tr>\n",
       "      <th>7</th>\n",
       "      <td>Sri Lanka</td>\n",
       "      <td>2757</td>\n",
       "      <td>43.761905</td>\n",
       "      <td>63</td>\n",
       "    </tr>\n",
       "    <tr>\n",
       "      <th>8</th>\n",
       "      <td>Zimbabwe</td>\n",
       "      <td>1222</td>\n",
       "      <td>43.642857</td>\n",
       "      <td>28</td>\n",
       "    </tr>\n",
       "    <tr>\n",
       "      <th>9</th>\n",
       "      <td>South Africa</td>\n",
       "      <td>1758</td>\n",
       "      <td>39.954545</td>\n",
       "      <td>44</td>\n",
       "    </tr>\n",
       "    <tr>\n",
       "      <th>10</th>\n",
       "      <td>Netherlands</td>\n",
       "      <td>79</td>\n",
       "      <td>39.500000</td>\n",
       "      <td>2</td>\n",
       "    </tr>\n",
       "    <tr>\n",
       "      <th>11</th>\n",
       "      <td>New Zealand</td>\n",
       "      <td>1253</td>\n",
       "      <td>39.156250</td>\n",
       "      <td>32</td>\n",
       "    </tr>\n",
       "    <tr>\n",
       "      <th>12</th>\n",
       "      <td>Pakistan</td>\n",
       "      <td>2254</td>\n",
       "      <td>38.203390</td>\n",
       "      <td>59</td>\n",
       "    </tr>\n",
       "    <tr>\n",
       "      <th>13</th>\n",
       "      <td>Ireland</td>\n",
       "      <td>42</td>\n",
       "      <td>21.000000</td>\n",
       "      <td>2</td>\n",
       "    </tr>\n",
       "    <tr>\n",
       "      <th>14</th>\n",
       "      <td>U.A.E.</td>\n",
       "      <td>18</td>\n",
       "      <td>18.000000</td>\n",
       "      <td>1</td>\n",
       "    </tr>\n",
       "  </tbody>\n",
       "</table>\n",
       "</div>"
      ],
      "text/plain": [
       "             Opp  total_runs    avg_runs  inns_count\n",
       "0        Namibia         152  152.000000           1\n",
       "1          Kenya         647   71.888889           9\n",
       "2        Bermuda          57   57.000000           1\n",
       "3        England        1168   46.720000          25\n",
       "4     Bangladesh         460   46.000000          10\n",
       "5      Australia        2732   44.786885          61\n",
       "6    West Indies         968   44.000000          22\n",
       "7      Sri Lanka        2757   43.761905          63\n",
       "8       Zimbabwe        1222   43.642857          28\n",
       "9   South Africa        1758   39.954545          44\n",
       "10   Netherlands          79   39.500000           2\n",
       "11   New Zealand        1253   39.156250          32\n",
       "12      Pakistan        2254   38.203390          59\n",
       "13       Ireland          42   21.000000           2\n",
       "14        U.A.E.          18   18.000000           1"
      ]
     },
     "execution_count": 35,
     "metadata": {},
     "output_type": "execute_result"
    }
   ],
   "source": [
    "opp_data=data.groupby(\"Opp\").agg(total_runs=(\"runs\",\"sum\"),avg_runs=(\"runs\",\"mean\"),\n",
    "                                 inns_count=(\"Inns\",\"count\")).sort_values(\"avg_runs\",ascending=False).reset_index()\n",
    "opp_data"
   ]
  },
  {
   "cell_type": "code",
   "execution_count": 36,
   "id": "89551d83",
   "metadata": {},
   "outputs": [
    {
     "data": {
      "image/png": "[encoded data removed]",
      "text/plain": [
       "<Figure size 640x480 with 1 Axes>"
      ]
     },
     "metadata": {},
     "output_type": "display_data"
    }
   ],
   "source": [
    "sns.barplot(opp_data,x=\"Opp\",y=\"avg_runs\")\n",
    "plt.xticks(rotation=90)\n",
    "plt.xlabel(\"Opposition\")\n",
    "plt.ylabel(\"Average Runs Per Innings\")\n",
    "plt.show()"
   ]
  },
  {
   "cell_type": "code",
   "execution_count": 37,
   "id": "3afb74a7",
   "metadata": {},
   "outputs": [],
   "source": [
    "opp=data[\"Opp\"].unique()\n",
    "opp_var_name=list(map(lambda i: i.replace(\" \",\"_\"),opp))\n",
    "opp_var_name=list(map(lambda i: i.replace(\".\",\"_\"),opp_var_name))"
   ]
  },
  {
   "cell_type": "code",
   "execution_count": 38,
   "id": "a20ed481",
   "metadata": {},
   "outputs": [],
   "source": [
    "for val,var in zip(opp,opp_var_name):\n",
    "    globals()[var]=data.loc[data[\"Opp\"]==val,\"runs\"]"
   ]
  },
  {
   "cell_type": "code",
   "execution_count": 39,
   "id": "032daf3a",
   "metadata": {},
   "outputs": [
    {
     "name": "stdout",
     "output_type": "stream",
     "text": [
      "New_Zealand,South_Africa,Australia,Bangladesh,Pakistan,Sri_Lanka,Kenya,West_Indies,Zimbabwe,England,Netherlands,Namibia,U_A_E_,Bermuda,Ireland\n"
     ]
    }
   ],
   "source": [
    "#generating parameters for kruskal test\n",
    "for index,val in enumerate(opp_var_name):\n",
    "    if index!=len(opp_var_name)-1:\n",
    "        print(val,end=\",\")\n",
    "    else:\n",
    "        print(val)"
   ]
  },
  {
   "cell_type": "markdown",
   "id": "e8a51b77",
   "metadata": {},
   "source": [
    "H0: There is no statistically significant difference in average runs scored by Sachin Against different opponents.\n",
    "    \n",
    "HA: There is a statistically significant difference in average runs scored by Sachin Against different opponents..\n",
    "\n",
    "Significance Level= 5%"
   ]
  },
  {
   "cell_type": "code",
   "execution_count": 40,
   "id": "85a9087f",
   "metadata": {},
   "outputs": [
    {
     "name": "stdout",
     "output_type": "stream",
     "text": [
      "p-value= 0.7033827783014067\n",
      "Failed to Reject H0 at a 5.0% significance level\n"
     ]
    }
   ],
   "source": [
    "_,p=kruskal(New_Zealand,South_Africa,Australia,Bangladesh,Pakistan,Sri_Lanka,Kenya,\n",
    "              West_Indies,Zimbabwe,England,Netherlands,Namibia,U_A_E_,Bermuda,Ireland)\n",
    "accept_reject(p)"
   ]
  },
  {
   "cell_type": "markdown",
   "id": "9bb0b972",
   "metadata": {},
   "source": [
    "Hence, We accept that there is no statistically significant difference in average runs scored by Sachin Against different opponents."
   ]
  },
  {
   "cell_type": "markdown",
   "id": "f0aa6bd2",
   "metadata": {},
   "source": [
    "--------------------------------------------------------------------------------------------------------------------------------"
   ]
  },
  {
   "cell_type": "markdown",
   "id": "43af904e",
   "metadata": {},
   "source": [
    "--------------------------------------------------------------------------------------------------------------------------------"
   ]
  },
  {
   "cell_type": "markdown",
   "id": "9758c2a0",
   "metadata": {},
   "source": [
    "#### Average runs scored in First and Second Innings"
   ]
  },
  {
   "cell_type": "code",
   "execution_count": 41,
   "id": "2dcf3c74",
   "metadata": {},
   "outputs": [
    {
     "data": {
      "text/html": [
       "<div>\n",
       "<style scoped>\n",
       "    .dataframe tbody tr th:only-of-type {\n",
       "        vertical-align: middle;\n",
       "    }\n",
       "\n",
       "    .dataframe tbody tr th {\n",
       "        vertical-align: top;\n",
       "    }\n",
       "\n",
       "    .dataframe thead th {\n",
       "        text-align: right;\n",
       "    }\n",
       "</style>\n",
       "<table border=\"1\" class=\"dataframe\">\n",
       "  <thead>\n",
       "    <tr style=\"text-align: right;\">\n",
       "      <th></th>\n",
       "      <th>avg_runs</th>\n",
       "    </tr>\n",
       "    <tr>\n",
       "      <th>Inns</th>\n",
       "      <th></th>\n",
       "    </tr>\n",
       "  </thead>\n",
       "  <tbody>\n",
       "    <tr>\n",
       "      <th>1</th>\n",
       "      <td>46.670588</td>\n",
       "    </tr>\n",
       "    <tr>\n",
       "      <th>2</th>\n",
       "      <td>40.173684</td>\n",
       "    </tr>\n",
       "  </tbody>\n",
       "</table>\n",
       "</div>"
      ],
      "text/plain": [
       "       avg_runs\n",
       "Inns           \n",
       "1     46.670588\n",
       "2     40.173684"
      ]
     },
     "execution_count": 41,
     "metadata": {},
     "output_type": "execute_result"
    }
   ],
   "source": [
    "data.groupby(\"Inns\").agg(avg_runs=(\"runs\",\"mean\"))"
   ]
  },
  {
   "cell_type": "code",
   "execution_count": 42,
   "id": "6b4e3ee2",
   "metadata": {},
   "outputs": [
    {
     "data": {
      "image/png": "[encoded data removed]",
      "text/plain": [
       "<Figure size 600x300 with 2 Axes>"
      ]
     },
     "metadata": {},
     "output_type": "display_data"
    }
   ],
   "source": [
    "sns.FacetGrid(data,col=\"Inns\").map(sns.histplot,\"runs\")\n",
    "plt.show()"
   ]
  },
  {
   "cell_type": "markdown",
   "id": "9b2af64d",
   "metadata": {},
   "source": [
    "H0: There is no statistically significant difference between the Average runs scored by Sachin in First and Second Innings.\n",
    "    \n",
    "HA: There is a statistically significant difference between the Average runs scored by Sachin in First and Second Innings.\n",
    "\n",
    "Significance Level= 5%"
   ]
  },
  {
   "cell_type": "code",
   "execution_count": 43,
   "id": "b84721e9",
   "metadata": {},
   "outputs": [],
   "source": [
    "first_inns_runs=data.loc[data[\"Inns\"]==\"1\",\"runs\"]\n",
    "second_inns_runs=data.loc[data[\"Inns\"]==\"2\",\"runs\"]"
   ]
  },
  {
   "cell_type": "code",
   "execution_count": 44,
   "id": "9e2e0648",
   "metadata": {},
   "outputs": [
    {
     "name": "stdout",
     "output_type": "stream",
     "text": [
      "p-value= 0.14483724194759962\n",
      "Failed to Reject H0 at a 5.0% significance level\n"
     ]
    }
   ],
   "source": [
    "_,p=ttest_ind(first_inns_runs,second_inns_runs)\n",
    "accept_reject(p)"
   ]
  },
  {
   "cell_type": "markdown",
   "id": "5029367c",
   "metadata": {},
   "source": [
    "Hence, We accept that there is no statistically significant difference between the Average runs scored by Sachin in First and Second Innings."
   ]
  },
  {
   "cell_type": "markdown",
   "id": "307a19ba",
   "metadata": {},
   "source": [
    "--------------------------------------------------------------------------------------------------------------------------------"
   ]
  },
  {
   "cell_type": "markdown",
   "id": "b74520f9",
   "metadata": {},
   "source": [
    "--------------------------------------------------------------------------------------------------------------------------------"
   ]
  },
  {
   "cell_type": "markdown",
   "id": "7686b81f",
   "metadata": {},
   "source": [
    "#### Average Strike Rate across First and Second Innings"
   ]
  },
  {
   "cell_type": "code",
   "execution_count": 45,
   "id": "dc84da9a",
   "metadata": {},
   "outputs": [
    {
     "data": {
      "text/html": [
       "<div>\n",
       "<style scoped>\n",
       "    .dataframe tbody tr th:only-of-type {\n",
       "        vertical-align: middle;\n",
       "    }\n",
       "\n",
       "    .dataframe tbody tr th {\n",
       "        vertical-align: top;\n",
       "    }\n",
       "\n",
       "    .dataframe thead th {\n",
       "        text-align: right;\n",
       "    }\n",
       "</style>\n",
       "<table border=\"1\" class=\"dataframe\">\n",
       "  <thead>\n",
       "    <tr style=\"text-align: right;\">\n",
       "      <th></th>\n",
       "      <th>avg_strikerate</th>\n",
       "    </tr>\n",
       "    <tr>\n",
       "      <th>Inns</th>\n",
       "      <th></th>\n",
       "    </tr>\n",
       "  </thead>\n",
       "  <tbody>\n",
       "    <tr>\n",
       "      <th>1</th>\n",
       "      <td>73.133235</td>\n",
       "    </tr>\n",
       "    <tr>\n",
       "      <th>2</th>\n",
       "      <td>77.229316</td>\n",
       "    </tr>\n",
       "  </tbody>\n",
       "</table>\n",
       "</div>"
      ],
      "text/plain": [
       "      avg_strikerate\n",
       "Inns                \n",
       "1          73.133235\n",
       "2          77.229316"
      ]
     },
     "execution_count": 45,
     "metadata": {},
     "output_type": "execute_result"
    }
   ],
   "source": [
    "data.groupby(\"Inns\").agg(avg_strikerate=(\"sr\",\"mean\"))"
   ]
  },
  {
   "cell_type": "code",
   "execution_count": 46,
   "id": "c14067c3",
   "metadata": {},
   "outputs": [
    {
     "data": {
      "image/png": "[encoded data removed]",
      "text/plain": [
       "<Figure size 600x300 with 2 Axes>"
      ]
     },
     "metadata": {},
     "output_type": "display_data"
    }
   ],
   "source": [
    "sns.FacetGrid(data,col=\"Inns\").map(sns.histplot,\"sr\")\n",
    "plt.show()"
   ]
  },
  {
   "cell_type": "markdown",
   "id": "7f60710d",
   "metadata": {},
   "source": [
    "H0: There is no statistically significant difference between the Average Strike Rate of Sachin across First and Second Innings.\n",
    "    \n",
    "HA: There is a statistically significant difference between the Average Strike Rate of Sachin across First and Second Innings.\n",
    "\n",
    "Significance Level= 5%"
   ]
  },
  {
   "cell_type": "code",
   "execution_count": 47,
   "id": "fea00829",
   "metadata": {},
   "outputs": [],
   "source": [
    "first_inns_sr=data.loc[data[\"Inns\"]==\"1\",\"sr\"]\n",
    "second_inns_sr=data.loc[data[\"Inns\"]==\"2\",\"sr\"]"
   ]
  },
  {
   "cell_type": "code",
   "execution_count": 48,
   "id": "8ddb6268",
   "metadata": {},
   "outputs": [
    {
     "name": "stdout",
     "output_type": "stream",
     "text": [
      "p-value= 0.2679563367608401\n",
      "Failed to Reject H0 at a 5.0% significance level\n"
     ]
    }
   ],
   "source": [
    "_,p=ttest_ind(first_inns_sr,second_inns_sr)\n",
    "accept_reject(p)"
   ]
  },
  {
   "cell_type": "markdown",
   "id": "15f2f973",
   "metadata": {},
   "source": [
    "Hence, We accept that there is no statistically significant difference between the Average Strike Rate of Sachin across First and Second Innings."
   ]
  },
  {
   "cell_type": "markdown",
   "id": "d743a8dc",
   "metadata": {},
   "source": [
    "--------------------------------------------------------------------------------------------------------------------------------"
   ]
  },
  {
   "cell_type": "markdown",
   "id": "cb3ac6ce",
   "metadata": {},
   "source": [
    "--------------------------------------------------------------------------------------------------------------------------------"
   ]
  },
  {
   "cell_type": "markdown",
   "id": "400a9ec9",
   "metadata": {},
   "source": [
    "#### Average Strike Rate across Won and Lost Matches"
   ]
  },
  {
   "cell_type": "code",
   "execution_count": 49,
   "id": "9027ff57",
   "metadata": {},
   "outputs": [
    {
     "data": {
      "text/html": [
       "<div>\n",
       "<style scoped>\n",
       "    .dataframe tbody tr th:only-of-type {\n",
       "        vertical-align: middle;\n",
       "    }\n",
       "\n",
       "    .dataframe tbody tr th {\n",
       "        vertical-align: top;\n",
       "    }\n",
       "\n",
       "    .dataframe thead th {\n",
       "        text-align: right;\n",
       "    }\n",
       "</style>\n",
       "<table border=\"1\" class=\"dataframe\">\n",
       "  <thead>\n",
       "    <tr style=\"text-align: right;\">\n",
       "      <th></th>\n",
       "      <th>avg_sr</th>\n",
       "    </tr>\n",
       "    <tr>\n",
       "      <th>Won</th>\n",
       "      <th></th>\n",
       "    </tr>\n",
       "  </thead>\n",
       "  <tbody>\n",
       "    <tr>\n",
       "      <th>False</th>\n",
       "      <td>69.055170</td>\n",
       "    </tr>\n",
       "    <tr>\n",
       "      <th>True</th>\n",
       "      <td>81.263641</td>\n",
       "    </tr>\n",
       "  </tbody>\n",
       "</table>\n",
       "</div>"
      ],
      "text/plain": [
       "          avg_sr\n",
       "Won             \n",
       "False  69.055170\n",
       "True   81.263641"
      ]
     },
     "execution_count": 49,
     "metadata": {},
     "output_type": "execute_result"
    }
   ],
   "source": [
    "data.groupby(\"Won\").agg(avg_sr=(\"sr\",\"mean\"))"
   ]
  },
  {
   "cell_type": "code",
   "execution_count": 50,
   "id": "b7823fb1",
   "metadata": {},
   "outputs": [
    {
     "data": {
      "image/png": "[encoded data removed]",
      "text/plain": [
       "<Figure size 600x300 with 2 Axes>"
      ]
     },
     "metadata": {},
     "output_type": "display_data"
    }
   ],
   "source": [
    "sns.FacetGrid(data,col=\"Won\").map(sns.histplot,\"sr\")\n",
    "plt.show()"
   ]
  },
  {
   "cell_type": "markdown",
   "id": "8a174c5c",
   "metadata": {},
   "source": [
    "H0: There is no statistically significant difference between the Average Strike Rate of Sachin in Won and Lost Matches.\n",
    "    \n",
    "HA: The Average Strike Rate of Sachin in Won matches is greater than Average Strike Rate in Lost Matches.\n",
    "\n",
    "Significance Level= 5%"
   ]
  },
  {
   "cell_type": "code",
   "execution_count": 51,
   "id": "971432bc",
   "metadata": {},
   "outputs": [],
   "source": [
    "won_sr=data.loc[data[\"Won\"]==True,\"sr\"]\n",
    "lost_sr=data.loc[data[\"Won\"]==False,\"sr\"]"
   ]
  },
  {
   "cell_type": "code",
   "execution_count": 52,
   "id": "270837a6",
   "metadata": {},
   "outputs": [
    {
     "name": "stdout",
     "output_type": "stream",
     "text": [
      "p-value= 0.0004360106757143459\n",
      "Reject H0 at a 5.0% significance level\n"
     ]
    }
   ],
   "source": [
    "_,p=ttest_ind(won_sr,lost_sr,alternative=\"greater\")\n",
    "accept_reject(p)"
   ]
  },
  {
   "cell_type": "markdown",
   "id": "e364a5cb",
   "metadata": {},
   "source": [
    "Hence, We accept that The Average Strike Rate of Sachin in Won matches is greater than the Average Strike Rate in Lost Matches."
   ]
  },
  {
   "cell_type": "markdown",
   "id": "c68fc7a9",
   "metadata": {},
   "source": [
    "--------------------------------------------------------------------------------------------------------------------------------"
   ]
  },
  {
   "cell_type": "markdown",
   "id": "4bbbc450",
   "metadata": {},
   "source": [
    "--------------------------------------------------------------------------------------------------------------------------------"
   ]
  },
  {
   "cell_type": "markdown",
   "id": "33bc9018",
   "metadata": {},
   "source": [
    "#### Average Balls Faced during First and Second Innings"
   ]
  },
  {
   "cell_type": "code",
   "execution_count": 53,
   "id": "99d7ac22",
   "metadata": {},
   "outputs": [
    {
     "data": {
      "text/html": [
       "<div>\n",
       "<style scoped>\n",
       "    .dataframe tbody tr th:only-of-type {\n",
       "        vertical-align: middle;\n",
       "    }\n",
       "\n",
       "    .dataframe tbody tr th {\n",
       "        vertical-align: top;\n",
       "    }\n",
       "\n",
       "    .dataframe thead th {\n",
       "        text-align: right;\n",
       "    }\n",
       "</style>\n",
       "<table border=\"1\" class=\"dataframe\">\n",
       "  <thead>\n",
       "    <tr style=\"text-align: right;\">\n",
       "      <th></th>\n",
       "      <th>avg_balls_faced</th>\n",
       "    </tr>\n",
       "    <tr>\n",
       "      <th>Inns</th>\n",
       "      <th></th>\n",
       "    </tr>\n",
       "  </thead>\n",
       "  <tbody>\n",
       "    <tr>\n",
       "      <th>1</th>\n",
       "      <td>54.405882</td>\n",
       "    </tr>\n",
       "    <tr>\n",
       "      <th>2</th>\n",
       "      <td>44.910526</td>\n",
       "    </tr>\n",
       "  </tbody>\n",
       "</table>\n",
       "</div>"
      ],
      "text/plain": [
       "      avg_balls_faced\n",
       "Inns                 \n",
       "1           54.405882\n",
       "2           44.910526"
      ]
     },
     "execution_count": 53,
     "metadata": {},
     "output_type": "execute_result"
    }
   ],
   "source": [
    "data.groupby(\"Inns\").agg(avg_balls_faced=(\"bf\",\"mean\"))"
   ]
  },
  {
   "cell_type": "code",
   "execution_count": 54,
   "id": "a8f0a200",
   "metadata": {},
   "outputs": [
    {
     "data": {
      "image/png": "[encoded data removed]",
      "text/plain": [
       "<Figure size 600x300 with 2 Axes>"
      ]
     },
     "metadata": {},
     "output_type": "display_data"
    }
   ],
   "source": [
    "sns.FacetGrid(data,col=\"Inns\").map(sns.histplot,\"bf\")\n",
    "plt.show()"
   ]
  },
  {
   "cell_type": "markdown",
   "id": "89143f67",
   "metadata": {},
   "source": [
    "H0: There is no statistically significant difference between the Average Balls Faced by Sachin during First and Second Innings.\n",
    "    \n",
    "HA: There is a statistically significant difference between the Average Balls Faced by Sachin during First and Second Innings.\n",
    "\n",
    "Significance Level= 5%"
   ]
  },
  {
   "cell_type": "code",
   "execution_count": 55,
   "id": "911f6447",
   "metadata": {},
   "outputs": [],
   "source": [
    "first_inns_bf=data.loc[data[\"Inns\"]==\"1\",\"bf\"]\n",
    "second_inns_bf=data.loc[data[\"Inns\"]==\"2\",\"bf\"]"
   ]
  },
  {
   "cell_type": "code",
   "execution_count": 56,
   "id": "96750590",
   "metadata": {},
   "outputs": [
    {
     "name": "stdout",
     "output_type": "stream",
     "text": [
      "p-value= 0.01470804520421016\n",
      "Reject H0 at a 5.0% significance level\n"
     ]
    }
   ],
   "source": [
    "_,p=ttest_ind(first_inns_bf,second_inns_bf,alternative=\"greater\")\n",
    "accept_reject(p)"
   ]
  },
  {
   "cell_type": "markdown",
   "id": "99a422bb",
   "metadata": {},
   "source": [
    "Hence, There is a statistically significant difference between the Average Balls Faced by Sachin during First and Second Innings."
   ]
  },
  {
   "cell_type": "markdown",
   "id": "8b76a0ec",
   "metadata": {},
   "source": [
    "--------------------------------------------------------------------------------------------------------------------------------"
   ]
  },
  {
   "cell_type": "markdown",
   "id": "13de4b59",
   "metadata": {},
   "source": [
    "--------------------------------------------------------------------------------------------------------------------------------"
   ]
  },
  {
   "cell_type": "markdown",
   "id": "fcb71c64",
   "metadata": {},
   "source": [
    "#### Average runs scored during different months of the year"
   ]
  },
  {
   "cell_type": "code",
   "execution_count": 57,
   "id": "20d8a0b8",
   "metadata": {},
   "outputs": [
    {
     "data": {
      "text/html": [
       "<div>\n",
       "<style scoped>\n",
       "    .dataframe tbody tr th:only-of-type {\n",
       "        vertical-align: middle;\n",
       "    }\n",
       "\n",
       "    .dataframe tbody tr th {\n",
       "        vertical-align: top;\n",
       "    }\n",
       "\n",
       "    .dataframe thead th {\n",
       "        text-align: right;\n",
       "    }\n",
       "</style>\n",
       "<table border=\"1\" class=\"dataframe\">\n",
       "  <thead>\n",
       "    <tr style=\"text-align: right;\">\n",
       "      <th></th>\n",
       "      <th>avg_runs</th>\n",
       "    </tr>\n",
       "    <tr>\n",
       "      <th>month</th>\n",
       "      <th></th>\n",
       "    </tr>\n",
       "  </thead>\n",
       "  <tbody>\n",
       "    <tr>\n",
       "      <th>1</th>\n",
       "      <td>32.026316</td>\n",
       "    </tr>\n",
       "    <tr>\n",
       "      <th>2</th>\n",
       "      <td>41.734694</td>\n",
       "    </tr>\n",
       "    <tr>\n",
       "      <th>3</th>\n",
       "      <td>52.272727</td>\n",
       "    </tr>\n",
       "    <tr>\n",
       "      <th>4</th>\n",
       "      <td>43.848485</td>\n",
       "    </tr>\n",
       "    <tr>\n",
       "      <th>5</th>\n",
       "      <td>40.416667</td>\n",
       "    </tr>\n",
       "    <tr>\n",
       "      <th>6</th>\n",
       "      <td>48.000000</td>\n",
       "    </tr>\n",
       "    <tr>\n",
       "      <th>7</th>\n",
       "      <td>48.388889</td>\n",
       "    </tr>\n",
       "    <tr>\n",
       "      <th>8</th>\n",
       "      <td>48.692308</td>\n",
       "    </tr>\n",
       "    <tr>\n",
       "      <th>9</th>\n",
       "      <td>36.243243</td>\n",
       "    </tr>\n",
       "    <tr>\n",
       "      <th>10</th>\n",
       "      <td>44.897436</td>\n",
       "    </tr>\n",
       "    <tr>\n",
       "      <th>11</th>\n",
       "      <td>41.581395</td>\n",
       "    </tr>\n",
       "    <tr>\n",
       "      <th>12</th>\n",
       "      <td>51.166667</td>\n",
       "    </tr>\n",
       "  </tbody>\n",
       "</table>\n",
       "</div>"
      ],
      "text/plain": [
       "        avg_runs\n",
       "month           \n",
       "1      32.026316\n",
       "2      41.734694\n",
       "3      52.272727\n",
       "4      43.848485\n",
       "5      40.416667\n",
       "6      48.000000\n",
       "7      48.388889\n",
       "8      48.692308\n",
       "9      36.243243\n",
       "10     44.897436\n",
       "11     41.581395\n",
       "12     51.166667"
      ]
     },
     "execution_count": 57,
     "metadata": {},
     "output_type": "execute_result"
    }
   ],
   "source": [
    "data.groupby(\"month\").agg(avg_runs=(\"runs\",\"mean\"))"
   ]
  },
  {
   "cell_type": "markdown",
   "id": "26f2e4c2",
   "metadata": {},
   "source": [
    "H0: Runs scored is Normally Distributed\n",
    "\n",
    "HA: Runs scored is not Normally Distributed\n",
    "\n",
    "Significance Level: 5%"
   ]
  },
  {
   "cell_type": "code",
   "execution_count": 58,
   "id": "5047217d",
   "metadata": {},
   "outputs": [
    {
     "name": "stdout",
     "output_type": "stream",
     "text": [
      "p-value= 3.7059399471249535e-12\n",
      "Reject H0 at a 5.0% significance level\n"
     ]
    }
   ],
   "source": [
    "_,p=normaltest(data[\"runs\"])\n",
    "accept_reject(p)"
   ]
  },
  {
   "cell_type": "markdown",
   "id": "bfa73ac5",
   "metadata": {},
   "source": [
    "Hence, Runs scored is not Normally Distributed"
   ]
  },
  {
   "cell_type": "code",
   "execution_count": 59,
   "id": "611b2b95",
   "metadata": {},
   "outputs": [],
   "source": [
    "for i in list(data[\"Date\"].dt.month_name().unique()):\n",
    "    globals()[i]=data.loc[data[\"Date\"].dt.month_name()==i,\"runs\"]"
   ]
  },
  {
   "cell_type": "code",
   "execution_count": 60,
   "id": "2368547f",
   "metadata": {},
   "outputs": [
    {
     "name": "stdout",
     "output_type": "stream",
     "text": [
      "February,April,November,March,May,August,September,October,December,January,July,June\n"
     ]
    }
   ],
   "source": [
    "#generating parameter for kruskal test\n",
    "for index,mon in enumerate(list(data[\"Date\"].dt.month_name().unique())):\n",
    "    if index!=len(data[\"Date\"].dt.month_name().unique())-1:\n",
    "        print(mon,end=\",\")\n",
    "    else:\n",
    "        print(mon)"
   ]
  },
  {
   "cell_type": "markdown",
   "id": "0db3262a",
   "metadata": {},
   "source": [
    "H0: There is no statistically significant difference in the average runs scored by Sachin during different months of the year.\n",
    "\n",
    "H0: There is a statistically significant difference in the average runs scored by Sachin during different months of the year.\n",
    "\n",
    "Significance Level: 5%"
   ]
  },
  {
   "cell_type": "code",
   "execution_count": 61,
   "id": "babf82dc",
   "metadata": {},
   "outputs": [
    {
     "name": "stdout",
     "output_type": "stream",
     "text": [
      "p-value= 0.5396563116726798\n",
      "Failed to Reject H0 at a 5.0% significance level\n"
     ]
    }
   ],
   "source": [
    "_,p=kruskal(February,April,November,March,May,August,September,October,December,January,July,June)\n",
    "accept_reject(p)"
   ]
  },
  {
   "cell_type": "markdown",
   "id": "a20893a0",
   "metadata": {},
   "source": [
    "Hence, We accept that there is no statistically significant difference in the average runs scored by Sachin during different months of the year."
   ]
  },
  {
   "cell_type": "markdown",
   "id": "93cab0d7",
   "metadata": {},
   "source": [
    "--------------------------------------------------------------------------------------------------------------------------------"
   ]
  },
  {
   "cell_type": "markdown",
   "id": "2d890312",
   "metadata": {},
   "source": [
    "--------------------------------------------------------------------------------------------------------------------------------"
   ]
  },
  {
   "cell_type": "markdown",
   "id": "bed25249",
   "metadata": {},
   "source": [
    "#### Average Minutes batted during First and Second Innings"
   ]
  },
  {
   "cell_type": "code",
   "execution_count": 62,
   "id": "3a1ab7f5",
   "metadata": {},
   "outputs": [
    {
     "data": {
      "text/html": [
       "<div>\n",
       "<style scoped>\n",
       "    .dataframe tbody tr th:only-of-type {\n",
       "        vertical-align: middle;\n",
       "    }\n",
       "\n",
       "    .dataframe tbody tr th {\n",
       "        vertical-align: top;\n",
       "    }\n",
       "\n",
       "    .dataframe thead th {\n",
       "        text-align: right;\n",
       "    }\n",
       "</style>\n",
       "<table border=\"1\" class=\"dataframe\">\n",
       "  <thead>\n",
       "    <tr style=\"text-align: right;\">\n",
       "      <th></th>\n",
       "      <th>avg_mins</th>\n",
       "    </tr>\n",
       "    <tr>\n",
       "      <th>Inns</th>\n",
       "      <th></th>\n",
       "    </tr>\n",
       "  </thead>\n",
       "  <tbody>\n",
       "    <tr>\n",
       "      <th>1</th>\n",
       "      <td>79.751592</td>\n",
       "    </tr>\n",
       "    <tr>\n",
       "      <th>2</th>\n",
       "      <td>70.751381</td>\n",
       "    </tr>\n",
       "  </tbody>\n",
       "</table>\n",
       "</div>"
      ],
      "text/plain": [
       "       avg_mins\n",
       "Inns           \n",
       "1     79.751592\n",
       "2     70.751381"
      ]
     },
     "execution_count": 62,
     "metadata": {},
     "output_type": "execute_result"
    }
   ],
   "source": [
    "mod_data=data[data[\"mins\"]!=\"-\"]\n",
    "mod_data[\"mins\"]=mod_data[\"mins\"].astype(\"float\")\n",
    "mod_data.groupby(\"Inns\").agg(avg_mins=(\"mins\",\"mean\"))"
   ]
  },
  {
   "cell_type": "code",
   "execution_count": 63,
   "id": "77928524",
   "metadata": {},
   "outputs": [
    {
     "data": {
      "image/png": "[encoded data removed]",
      "text/plain": [
       "<Figure size 600x300 with 2 Axes>"
      ]
     },
     "metadata": {},
     "output_type": "display_data"
    }
   ],
   "source": [
    "sns.FacetGrid(mod_data,col=\"Inns\").map(sns.histplot,\"mins\")\n",
    "plt.show()"
   ]
  },
  {
   "cell_type": "markdown",
   "id": "aed79c2f",
   "metadata": {},
   "source": [
    "H0: There is no statistically significant difference between the Average Minutes batted by Sachin during First and Second Innings.\n",
    "    \n",
    "HA: There is a statistically significant difference between the Average Minutes batted by Sachin during First and Second Innings.\n",
    "\n",
    "Significance Level= 5%"
   ]
  },
  {
   "cell_type": "code",
   "execution_count": 64,
   "id": "03c64363",
   "metadata": {},
   "outputs": [],
   "source": [
    "first_inns_mins=mod_data.loc[mod_data[\"Inns\"]==\"1\",\"mins\"]\n",
    "second_inns_mins=mod_data.loc[mod_data[\"Inns\"]==\"2\",\"mins\"]"
   ]
  },
  {
   "cell_type": "code",
   "execution_count": 65,
   "id": "a1829fbd",
   "metadata": {},
   "outputs": [
    {
     "name": "stdout",
     "output_type": "stream",
     "text": [
      "p-value= 0.1680637106471735\n",
      "Failed to Reject H0 at a 5.0% significance level\n"
     ]
    }
   ],
   "source": [
    "_,p=ttest_ind(first_inns_mins,second_inns_mins)\n",
    "accept_reject(p)"
   ]
  },
  {
   "cell_type": "markdown",
   "id": "550bb7c8",
   "metadata": {},
   "source": [
    "Hence, We accept that there is no statistically significant difference between the Average Minutes batted by Sachin during First and Second Innings."
   ]
  },
  {
   "cell_type": "markdown",
   "id": "122f2e93",
   "metadata": {},
   "source": [
    "--------------------------------------------------------------------------------------------------------------------------------"
   ]
  },
  {
   "cell_type": "markdown",
   "id": "8fabde45",
   "metadata": {},
   "source": [
    "--------------------------------------------------------------------------------------------------------------------------------"
   ]
  }
 ],
 "metadata": {
  "kernelspec": {
   "display_name": "Python 3 (ipykernel)",
   "language": "python",
   "name": "python3"
  },
  "language_info": {
   "codemirror_mode": {
    "name": "ipython",
    "version": 3
   },
   "file_extension": ".py",
   "mimetype": "text/x-python",
   "name": "python",
   "nbconvert_exporter": "python",
   "pygments_lexer": "ipython3",
   "version": "3.11.3"
  }
 },
 "nbformat": 4,
 "nbformat_minor": 5
}
