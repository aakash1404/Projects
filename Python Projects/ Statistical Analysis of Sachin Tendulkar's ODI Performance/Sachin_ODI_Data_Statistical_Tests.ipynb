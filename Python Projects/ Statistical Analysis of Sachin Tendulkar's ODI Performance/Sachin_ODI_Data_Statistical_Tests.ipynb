{
 "cells": [
  {
   "cell_type": "code",
   "execution_count": 1,
   "id": "2ae4a50c",
   "metadata": {},
   "outputs": [],
   "source": [
    "import pandas as pd\n",
    "import numpy as np\n",
    "import matplotlib.pyplot as plt\n",
    "import seaborn as sns\n",
    "import scipy.stats as stats\n",
    "import warnings"
   ]
  },
  {
   "cell_type": "code",
   "execution_count": 2,
   "id": "e7441656",
   "metadata": {},
   "outputs": [],
   "source": [
    "warnings.filterwarnings(action=\"ignore\")"
   ]
  },
  {
   "cell_type": "code",
   "execution_count": 3,
   "id": "13cba590",
   "metadata": {},
   "outputs": [],
   "source": [
    "data=pd.read_csv(\"Sachin_ODI.csv\")"
   ]
  },
  {
   "cell_type": "code",
   "execution_count": 4,
   "id": "628ac8e3",
   "metadata": {},
   "outputs": [
    {
     "data": {
      "text/html": [
       "<div>\n",
       "<style scoped>\n",
       "    .dataframe tbody tr th:only-of-type {\n",
       "        vertical-align: middle;\n",
       "    }\n",
       "\n",
       "    .dataframe tbody tr th {\n",
       "        vertical-align: top;\n",
       "    }\n",
       "\n",
       "    .dataframe thead th {\n",
       "        text-align: right;\n",
       "    }\n",
       "</style>\n",
       "<table border=\"1\" class=\"dataframe\">\n",
       "  <thead>\n",
       "    <tr style=\"text-align: right;\">\n",
       "      <th></th>\n",
       "      <th>runs</th>\n",
       "      <th>NotOut</th>\n",
       "      <th>mins</th>\n",
       "      <th>bf</th>\n",
       "      <th>fours</th>\n",
       "      <th>sixes</th>\n",
       "      <th>sr</th>\n",
       "      <th>Inns</th>\n",
       "      <th>Opp</th>\n",
       "      <th>Ground</th>\n",
       "      <th>Date</th>\n",
       "      <th>Winner</th>\n",
       "      <th>Won</th>\n",
       "      <th>century</th>\n",
       "    </tr>\n",
       "  </thead>\n",
       "  <tbody>\n",
       "    <tr>\n",
       "      <th>0</th>\n",
       "      <td>13</td>\n",
       "      <td>0</td>\n",
       "      <td>30</td>\n",
       "      <td>15</td>\n",
       "      <td>3</td>\n",
       "      <td>0</td>\n",
       "      <td>86.66</td>\n",
       "      <td>1</td>\n",
       "      <td>New Zealand</td>\n",
       "      <td>Napier</td>\n",
       "      <td>1995-02-16</td>\n",
       "      <td>New Zealand</td>\n",
       "      <td>False</td>\n",
       "      <td>False</td>\n",
       "    </tr>\n",
       "    <tr>\n",
       "      <th>1</th>\n",
       "      <td>37</td>\n",
       "      <td>0</td>\n",
       "      <td>75</td>\n",
       "      <td>51</td>\n",
       "      <td>3</td>\n",
       "      <td>1</td>\n",
       "      <td>72.54</td>\n",
       "      <td>2</td>\n",
       "      <td>South Africa</td>\n",
       "      <td>Hamilton</td>\n",
       "      <td>1995-02-18</td>\n",
       "      <td>South Africa</td>\n",
       "      <td>False</td>\n",
       "      <td>False</td>\n",
       "    </tr>\n",
       "    <tr>\n",
       "      <th>2</th>\n",
       "      <td>47</td>\n",
       "      <td>0</td>\n",
       "      <td>65</td>\n",
       "      <td>40</td>\n",
       "      <td>7</td>\n",
       "      <td>0</td>\n",
       "      <td>117.50</td>\n",
       "      <td>2</td>\n",
       "      <td>Australia</td>\n",
       "      <td>Dunedin</td>\n",
       "      <td>1995-02-22</td>\n",
       "      <td>India</td>\n",
       "      <td>True</td>\n",
       "      <td>False</td>\n",
       "    </tr>\n",
       "    <tr>\n",
       "      <th>3</th>\n",
       "      <td>48</td>\n",
       "      <td>0</td>\n",
       "      <td>37</td>\n",
       "      <td>30</td>\n",
       "      <td>9</td>\n",
       "      <td>1</td>\n",
       "      <td>160.00</td>\n",
       "      <td>2</td>\n",
       "      <td>Bangladesh</td>\n",
       "      <td>Sharjah</td>\n",
       "      <td>1995-04-05</td>\n",
       "      <td>India</td>\n",
       "      <td>True</td>\n",
       "      <td>False</td>\n",
       "    </tr>\n",
       "    <tr>\n",
       "      <th>4</th>\n",
       "      <td>4</td>\n",
       "      <td>0</td>\n",
       "      <td>13</td>\n",
       "      <td>9</td>\n",
       "      <td>1</td>\n",
       "      <td>0</td>\n",
       "      <td>44.44</td>\n",
       "      <td>2</td>\n",
       "      <td>Pakistan</td>\n",
       "      <td>Sharjah</td>\n",
       "      <td>1995-04-07</td>\n",
       "      <td>Pakistan</td>\n",
       "      <td>False</td>\n",
       "      <td>False</td>\n",
       "    </tr>\n",
       "  </tbody>\n",
       "</table>\n",
       "</div>"
      ],
      "text/plain": [
       "   runs  NotOut mins  bf  fours  sixes      sr  Inns           Opp    Ground  \\\n",
       "0    13       0   30  15      3      0   86.66     1   New Zealand    Napier   \n",
       "1    37       0   75  51      3      1   72.54     2  South Africa  Hamilton   \n",
       "2    47       0   65  40      7      0  117.50     2     Australia   Dunedin   \n",
       "3    48       0   37  30      9      1  160.00     2    Bangladesh   Sharjah   \n",
       "4     4       0   13   9      1      0   44.44     2      Pakistan   Sharjah   \n",
       "\n",
       "         Date        Winner    Won  century  \n",
       "0  1995-02-16   New Zealand  False    False  \n",
       "1  1995-02-18  South Africa  False    False  \n",
       "2  1995-02-22         India   True    False  \n",
       "3  1995-04-05         India   True    False  \n",
       "4  1995-04-07      Pakistan  False    False  "
      ]
     },
     "execution_count": 4,
     "metadata": {},
     "output_type": "execute_result"
    }
   ],
   "source": [
    "data.head()"
   ]
  },
  {
   "cell_type": "code",
   "execution_count": 5,
   "id": "e0e999b1",
   "metadata": {},
   "outputs": [
    {
     "data": {
      "text/plain": [
       "(360, 14)"
      ]
     },
     "execution_count": 5,
     "metadata": {},
     "output_type": "execute_result"
    }
   ],
   "source": [
    "data.shape"
   ]
  },
  {
   "cell_type": "code",
   "execution_count": 6,
   "id": "0f86fde7",
   "metadata": {},
   "outputs": [
    {
     "data": {
      "text/plain": [
       "runs       0\n",
       "NotOut     0\n",
       "mins       0\n",
       "bf         0\n",
       "fours      0\n",
       "sixes      0\n",
       "sr         0\n",
       "Inns       0\n",
       "Opp        0\n",
       "Ground     0\n",
       "Date       0\n",
       "Winner     0\n",
       "Won        0\n",
       "century    0\n",
       "dtype: int64"
      ]
     },
     "execution_count": 6,
     "metadata": {},
     "output_type": "execute_result"
    }
   ],
   "source": [
    "data.isna().sum()"
   ]
  },
  {
   "cell_type": "code",
   "execution_count": 7,
   "id": "ce3b3633",
   "metadata": {},
   "outputs": [
    {
     "data": {
      "text/plain": [
       "False"
      ]
     },
     "execution_count": 7,
     "metadata": {},
     "output_type": "execute_result"
    }
   ],
   "source": [
    "np.any(data.duplicated())"
   ]
  },
  {
   "cell_type": "code",
   "execution_count": 8,
   "id": "e3a1eed3",
   "metadata": {},
   "outputs": [
    {
     "data": {
      "text/html": [
       "<div>\n",
       "<style scoped>\n",
       "    .dataframe tbody tr th:only-of-type {\n",
       "        vertical-align: middle;\n",
       "    }\n",
       "\n",
       "    .dataframe tbody tr th {\n",
       "        vertical-align: top;\n",
       "    }\n",
       "\n",
       "    .dataframe thead th {\n",
       "        text-align: right;\n",
       "    }\n",
       "</style>\n",
       "<table border=\"1\" class=\"dataframe\">\n",
       "  <thead>\n",
       "    <tr style=\"text-align: right;\">\n",
       "      <th></th>\n",
       "      <th>runs</th>\n",
       "      <th>NotOut</th>\n",
       "      <th>bf</th>\n",
       "      <th>fours</th>\n",
       "      <th>sixes</th>\n",
       "      <th>sr</th>\n",
       "      <th>Inns</th>\n",
       "    </tr>\n",
       "  </thead>\n",
       "  <tbody>\n",
       "    <tr>\n",
       "      <th>count</th>\n",
       "      <td>360.000000</td>\n",
       "      <td>360.000000</td>\n",
       "      <td>360.000000</td>\n",
       "      <td>360.000000</td>\n",
       "      <td>360.000000</td>\n",
       "      <td>360.000000</td>\n",
       "      <td>360.000000</td>\n",
       "    </tr>\n",
       "    <tr>\n",
       "      <th>mean</th>\n",
       "      <td>43.241667</td>\n",
       "      <td>0.083333</td>\n",
       "      <td>49.394444</td>\n",
       "      <td>4.858333</td>\n",
       "      <td>0.466667</td>\n",
       "      <td>75.295056</td>\n",
       "      <td>1.527778</td>\n",
       "    </tr>\n",
       "    <tr>\n",
       "      <th>std</th>\n",
       "      <td>42.182452</td>\n",
       "      <td>0.276770</td>\n",
       "      <td>41.348576</td>\n",
       "      <td>4.722900</td>\n",
       "      <td>1.057669</td>\n",
       "      <td>34.980677</td>\n",
       "      <td>0.499923</td>\n",
       "    </tr>\n",
       "    <tr>\n",
       "      <th>min</th>\n",
       "      <td>0.000000</td>\n",
       "      <td>0.000000</td>\n",
       "      <td>2.000000</td>\n",
       "      <td>0.000000</td>\n",
       "      <td>0.000000</td>\n",
       "      <td>0.000000</td>\n",
       "      <td>1.000000</td>\n",
       "    </tr>\n",
       "    <tr>\n",
       "      <th>25%</th>\n",
       "      <td>8.000000</td>\n",
       "      <td>0.000000</td>\n",
       "      <td>15.000000</td>\n",
       "      <td>1.000000</td>\n",
       "      <td>0.000000</td>\n",
       "      <td>57.030000</td>\n",
       "      <td>1.000000</td>\n",
       "    </tr>\n",
       "    <tr>\n",
       "      <th>50%</th>\n",
       "      <td>30.000000</td>\n",
       "      <td>0.000000</td>\n",
       "      <td>35.000000</td>\n",
       "      <td>3.000000</td>\n",
       "      <td>0.000000</td>\n",
       "      <td>76.330000</td>\n",
       "      <td>2.000000</td>\n",
       "    </tr>\n",
       "    <tr>\n",
       "      <th>75%</th>\n",
       "      <td>67.000000</td>\n",
       "      <td>0.000000</td>\n",
       "      <td>73.500000</td>\n",
       "      <td>8.000000</td>\n",
       "      <td>1.000000</td>\n",
       "      <td>97.822500</td>\n",
       "      <td>2.000000</td>\n",
       "    </tr>\n",
       "    <tr>\n",
       "      <th>max</th>\n",
       "      <td>200.000000</td>\n",
       "      <td>1.000000</td>\n",
       "      <td>153.000000</td>\n",
       "      <td>25.000000</td>\n",
       "      <td>7.000000</td>\n",
       "      <td>196.550000</td>\n",
       "      <td>2.000000</td>\n",
       "    </tr>\n",
       "  </tbody>\n",
       "</table>\n",
       "</div>"
      ],
      "text/plain": [
       "             runs      NotOut          bf       fours       sixes          sr  \\\n",
       "count  360.000000  360.000000  360.000000  360.000000  360.000000  360.000000   \n",
       "mean    43.241667    0.083333   49.394444    4.858333    0.466667   75.295056   \n",
       "std     42.182452    0.276770   41.348576    4.722900    1.057669   34.980677   \n",
       "min      0.000000    0.000000    2.000000    0.000000    0.000000    0.000000   \n",
       "25%      8.000000    0.000000   15.000000    1.000000    0.000000   57.030000   \n",
       "50%     30.000000    0.000000   35.000000    3.000000    0.000000   76.330000   \n",
       "75%     67.000000    0.000000   73.500000    8.000000    1.000000   97.822500   \n",
       "max    200.000000    1.000000  153.000000   25.000000    7.000000  196.550000   \n",
       "\n",
       "             Inns  \n",
       "count  360.000000  \n",
       "mean     1.527778  \n",
       "std      0.499923  \n",
       "min      1.000000  \n",
       "25%      1.000000  \n",
       "50%      2.000000  \n",
       "75%      2.000000  \n",
       "max      2.000000  "
      ]
     },
     "execution_count": 8,
     "metadata": {},
     "output_type": "execute_result"
    }
   ],
   "source": [
    "data.describe()"
   ]
  },
  {
   "cell_type": "code",
   "execution_count": 9,
   "id": "aed410a3",
   "metadata": {},
   "outputs": [
    {
     "data": {
      "text/html": [
       "<div>\n",
       "<style scoped>\n",
       "    .dataframe tbody tr th:only-of-type {\n",
       "        vertical-align: middle;\n",
       "    }\n",
       "\n",
       "    .dataframe tbody tr th {\n",
       "        vertical-align: top;\n",
       "    }\n",
       "\n",
       "    .dataframe thead th {\n",
       "        text-align: right;\n",
       "    }\n",
       "</style>\n",
       "<table border=\"1\" class=\"dataframe\">\n",
       "  <thead>\n",
       "    <tr style=\"text-align: right;\">\n",
       "      <th></th>\n",
       "      <th>mins</th>\n",
       "      <th>Opp</th>\n",
       "      <th>Ground</th>\n",
       "      <th>Date</th>\n",
       "      <th>Winner</th>\n",
       "    </tr>\n",
       "  </thead>\n",
       "  <tbody>\n",
       "    <tr>\n",
       "      <th>count</th>\n",
       "      <td>360</td>\n",
       "      <td>360</td>\n",
       "      <td>360</td>\n",
       "      <td>360</td>\n",
       "      <td>360</td>\n",
       "    </tr>\n",
       "    <tr>\n",
       "      <th>unique</th>\n",
       "      <td>154</td>\n",
       "      <td>15</td>\n",
       "      <td>85</td>\n",
       "      <td>360</td>\n",
       "      <td>13</td>\n",
       "    </tr>\n",
       "    <tr>\n",
       "      <th>top</th>\n",
       "      <td>-</td>\n",
       "      <td>Sri Lanka</td>\n",
       "      <td>Sharjah</td>\n",
       "      <td>1995-02-16</td>\n",
       "      <td>India</td>\n",
       "    </tr>\n",
       "    <tr>\n",
       "      <th>freq</th>\n",
       "      <td>22</td>\n",
       "      <td>63</td>\n",
       "      <td>31</td>\n",
       "      <td>1</td>\n",
       "      <td>184</td>\n",
       "    </tr>\n",
       "  </tbody>\n",
       "</table>\n",
       "</div>"
      ],
      "text/plain": [
       "       mins        Opp   Ground        Date Winner\n",
       "count   360        360      360         360    360\n",
       "unique  154         15       85         360     13\n",
       "top       -  Sri Lanka  Sharjah  1995-02-16  India\n",
       "freq     22         63       31           1    184"
      ]
     },
     "execution_count": 9,
     "metadata": {},
     "output_type": "execute_result"
    }
   ],
   "source": [
    "data.describe(include=\"object\")"
   ]
  },
  {
   "cell_type": "code",
   "execution_count": 10,
   "id": "0bae8814",
   "metadata": {},
   "outputs": [
    {
     "data": {
      "text/plain": [
       "runs         int64\n",
       "NotOut       int64\n",
       "mins        object\n",
       "bf           int64\n",
       "fours        int64\n",
       "sixes        int64\n",
       "sr         float64\n",
       "Inns         int64\n",
       "Opp         object\n",
       "Ground      object\n",
       "Date        object\n",
       "Winner      object\n",
       "Won           bool\n",
       "century       bool\n",
       "dtype: object"
      ]
     },
     "execution_count": 10,
     "metadata": {},
     "output_type": "execute_result"
    }
   ],
   "source": [
    "data.dtypes"
   ]
  },
  {
   "cell_type": "code",
   "execution_count": 11,
   "id": "d2adddee",
   "metadata": {},
   "outputs": [],
   "source": [
    "data[\"Date\"]=pd.to_datetime(data[\"Date\"],format=\"%Y-%m-%d\")"
   ]
  },
  {
   "cell_type": "code",
   "execution_count": 12,
   "id": "03960c96",
   "metadata": {},
   "outputs": [],
   "source": [
    "data[\"Inns\"]=data[\"Inns\"].astype(object)"
   ]
  },
  {
   "cell_type": "code",
   "execution_count": 13,
   "id": "4d7b5e9e",
   "metadata": {},
   "outputs": [],
   "source": [
    "data[\"month\"]=data[\"Date\"].dt.month\n",
    "data[\"year\"]=data[\"Date\"].dt.year"
   ]
  },
  {
   "cell_type": "markdown",
   "id": "18fe7a6e",
   "metadata": {},
   "source": [
    "--------------------------------------------------------------------------------------------------------------------------------"
   ]
  },
  {
   "cell_type": "markdown",
   "id": "aacc3850",
   "metadata": {},
   "source": [
    "--------------------------------------------------------------------------------------------------------------------------------"
   ]
  },
  {
   "cell_type": "markdown",
   "id": "c3876f90",
   "metadata": {},
   "source": [
    "### All calculations are done at a 5 percent signifance level."
   ]
  },
  {
   "cell_type": "code",
   "execution_count": 14,
   "id": "406bd8f2",
   "metadata": {},
   "outputs": [],
   "source": [
    "alpha=0.05"
   ]
  },
  {
   "cell_type": "code",
   "execution_count": 15,
   "id": "24e60677",
   "metadata": {},
   "outputs": [],
   "source": [
    "def crosstab(x,y):\n",
    "    \"\"\"\n",
    "    This function returns a crosstab for two categorical columns from the dataset\n",
    "    \"\"\"\n",
    "    return pd.crosstab(index=data[x],columns=data[y])"
   ]
  },
  {
   "cell_type": "code",
   "execution_count": 16,
   "id": "7db3353f",
   "metadata": {},
   "outputs": [],
   "source": [
    "def chi2test(x,y):\n",
    "    \"\"\"\n",
    "    This function returns p-value for chi-square test between two categorical columns\n",
    "    \"\"\"\n",
    "    _,p,_,_=stats.chi2_contingency(pd.crosstab(index=data[x],columns=data[y]))\n",
    "    return p"
   ]
  },
  {
   "cell_type": "code",
   "execution_count": 17,
   "id": "8545e302",
   "metadata": {},
   "outputs": [],
   "source": [
    "def accept_reject(p):\n",
    "    \"\"\"\n",
    "    This function prints if the null hypothesis should be accepted or rejected at global alpha level\n",
    "    \"\"\"\n",
    "    global alpha\n",
    "    if p<alpha:\n",
    "        x=\"Reject H0\"\n",
    "    else:\n",
    "        x=\"Failed to Reject H0\"\n",
    "    print(f\"p-value= {p}\")\n",
    "    print(f\"{x} at a {alpha*100}% significance level\")    "
   ]
  },
  {
   "cell_type": "markdown",
   "id": "ff0fd30a",
   "metadata": {},
   "source": [
    "--------------------------------------------------------------------------------------------------------------------------------"
   ]
  },
  {
   "cell_type": "markdown",
   "id": "bb8bb85c",
   "metadata": {},
   "source": [
    "--------------------------------------------------------------------------------------------------------------------------------"
   ]
  },
  {
   "cell_type": "code",
   "execution_count": 18,
   "id": "a5bc88c1",
   "metadata": {},
   "outputs": [
    {
     "data": {
      "text/html": [
       "<div>\n",
       "<style scoped>\n",
       "    .dataframe tbody tr th:only-of-type {\n",
       "        vertical-align: middle;\n",
       "    }\n",
       "\n",
       "    .dataframe tbody tr th {\n",
       "        vertical-align: top;\n",
       "    }\n",
       "\n",
       "    .dataframe thead th {\n",
       "        text-align: right;\n",
       "    }\n",
       "</style>\n",
       "<table border=\"1\" class=\"dataframe\">\n",
       "  <thead>\n",
       "    <tr style=\"text-align: right;\">\n",
       "      <th>century</th>\n",
       "      <th>False</th>\n",
       "      <th>True</th>\n",
       "    </tr>\n",
       "    <tr>\n",
       "      <th>Won</th>\n",
       "      <th></th>\n",
       "      <th></th>\n",
       "    </tr>\n",
       "  </thead>\n",
       "  <tbody>\n",
       "    <tr>\n",
       "      <th>False</th>\n",
       "      <td>160</td>\n",
       "      <td>16</td>\n",
       "    </tr>\n",
       "    <tr>\n",
       "      <th>True</th>\n",
       "      <td>154</td>\n",
       "      <td>30</td>\n",
       "    </tr>\n",
       "  </tbody>\n",
       "</table>\n",
       "</div>"
      ],
      "text/plain": [
       "century  False  True \n",
       "Won                  \n",
       "False      160     16\n",
       "True       154     30"
      ]
     },
     "execution_count": 18,
     "metadata": {},
     "output_type": "execute_result"
    }
   ],
   "source": [
    "crosstab(\"Won\",\"century\")"
   ]
  },
  {
   "cell_type": "markdown",
   "id": "a1dabf40",
   "metadata": {},
   "source": [
    "H0: There is no statistically significant relationship between Sachin hitting a century and team winning.\n",
    "\n",
    "HA: There is a statistically significant relationship between Sachin hitting a century and team winning \n",
    "\n",
    "Significance level= 5%"
   ]
  },
  {
   "cell_type": "code",
   "execution_count": 19,
   "id": "8556dfdd",
   "metadata": {},
   "outputs": [
    {
     "name": "stdout",
     "output_type": "stream",
     "text": [
      "p-value= 0.05856653223833202\n",
      "Failed to Reject H0 at a 5.0% significance level\n"
     ]
    }
   ],
   "source": [
    "p=chi2test(\"Won\",\"century\")\n",
    "accept_reject(p)"
   ]
  },
  {
   "cell_type": "markdown",
   "id": "57eb2cd8",
   "metadata": {},
   "source": [
    "Hence, We accept that There is no statistically significant relationship between Sachin hitting a century and team winning."
   ]
  },
  {
   "cell_type": "markdown",
   "id": "4662f3b2",
   "metadata": {},
   "source": [
    "--------------------------------------------------------------------------------------------------------------------------------"
   ]
  },
  {
   "cell_type": "markdown",
   "id": "224ff2b0",
   "metadata": {},
   "source": [
    "--------------------------------------------------------------------------------------------------------------------------------"
   ]
  },
  {
   "cell_type": "code",
   "execution_count": 20,
   "id": "6f3c657e",
   "metadata": {},
   "outputs": [
    {
     "data": {
      "text/html": [
       "<div>\n",
       "<style scoped>\n",
       "    .dataframe tbody tr th:only-of-type {\n",
       "        vertical-align: middle;\n",
       "    }\n",
       "\n",
       "    .dataframe tbody tr th {\n",
       "        vertical-align: top;\n",
       "    }\n",
       "\n",
       "    .dataframe thead th {\n",
       "        text-align: right;\n",
       "    }\n",
       "</style>\n",
       "<table border=\"1\" class=\"dataframe\">\n",
       "  <thead>\n",
       "    <tr style=\"text-align: right;\">\n",
       "      <th>Won</th>\n",
       "      <th>False</th>\n",
       "      <th>True</th>\n",
       "    </tr>\n",
       "    <tr>\n",
       "      <th>NotOut</th>\n",
       "      <th></th>\n",
       "      <th></th>\n",
       "    </tr>\n",
       "  </thead>\n",
       "  <tbody>\n",
       "    <tr>\n",
       "      <th>0</th>\n",
       "      <td>172</td>\n",
       "      <td>158</td>\n",
       "    </tr>\n",
       "    <tr>\n",
       "      <th>1</th>\n",
       "      <td>4</td>\n",
       "      <td>26</td>\n",
       "    </tr>\n",
       "  </tbody>\n",
       "</table>\n",
       "</div>"
      ],
      "text/plain": [
       "Won     False  True \n",
       "NotOut              \n",
       "0         172    158\n",
       "1           4     26"
      ]
     },
     "execution_count": 20,
     "metadata": {},
     "output_type": "execute_result"
    }
   ],
   "source": [
    "crosstab(\"NotOut\",\"Won\")"
   ]
  },
  {
   "cell_type": "markdown",
   "id": "02ec2b71",
   "metadata": {},
   "source": [
    "H0: There is no statistically significant relationship between Sachin remaining not out and team winning.\n",
    "\n",
    "HA: There is a statistically significant relationship between Sachin remaining not out and team winning.\n",
    "\n",
    "Significance level= 5%"
   ]
  },
  {
   "cell_type": "code",
   "execution_count": 21,
   "id": "2d2dac0f",
   "metadata": {},
   "outputs": [
    {
     "name": "stdout",
     "output_type": "stream",
     "text": [
      "p-value= 0.0001051577146484091\n",
      "Reject H0 at a 5.0% significance level\n"
     ]
    }
   ],
   "source": [
    "p=chi2test(\"NotOut\",\"Won\")\n",
    "accept_reject(p)"
   ]
  },
  {
   "cell_type": "markdown",
   "id": "825bebb6",
   "metadata": {},
   "source": [
    "Hence, There is a statistically significant relationship between Sachin remaining not out and team winning."
   ]
  },
  {
   "cell_type": "markdown",
   "id": "58581a62",
   "metadata": {},
   "source": [
    "--------------------------------------------------------------------------------------------------------------------------------"
   ]
  },
  {
   "cell_type": "markdown",
   "id": "7ea2183e",
   "metadata": {},
   "source": [
    "--------------------------------------------------------------------------------------------------------------------------------"
   ]
  },
  {
   "cell_type": "code",
   "execution_count": 22,
   "id": "02d2610d",
   "metadata": {},
   "outputs": [
    {
     "data": {
      "text/html": [
       "<div>\n",
       "<style scoped>\n",
       "    .dataframe tbody tr th:only-of-type {\n",
       "        vertical-align: middle;\n",
       "    }\n",
       "\n",
       "    .dataframe tbody tr th {\n",
       "        vertical-align: top;\n",
       "    }\n",
       "\n",
       "    .dataframe thead th {\n",
       "        text-align: right;\n",
       "    }\n",
       "</style>\n",
       "<table border=\"1\" class=\"dataframe\">\n",
       "  <thead>\n",
       "    <tr style=\"text-align: right;\">\n",
       "      <th>century</th>\n",
       "      <th>False</th>\n",
       "      <th>True</th>\n",
       "    </tr>\n",
       "    <tr>\n",
       "      <th>Ground</th>\n",
       "      <th></th>\n",
       "      <th></th>\n",
       "    </tr>\n",
       "  </thead>\n",
       "  <tbody>\n",
       "    <tr>\n",
       "      <th>Adelaide</th>\n",
       "      <td>5</td>\n",
       "      <td>0</td>\n",
       "    </tr>\n",
       "    <tr>\n",
       "      <th>Ahmedabad</th>\n",
       "      <td>3</td>\n",
       "      <td>1</td>\n",
       "    </tr>\n",
       "    <tr>\n",
       "      <th>Amritsar</th>\n",
       "      <td>1</td>\n",
       "      <td>0</td>\n",
       "    </tr>\n",
       "    <tr>\n",
       "      <th>Auckland</th>\n",
       "      <td>2</td>\n",
       "      <td>0</td>\n",
       "    </tr>\n",
       "    <tr>\n",
       "      <th>Belfast</th>\n",
       "      <td>4</td>\n",
       "      <td>0</td>\n",
       "    </tr>\n",
       "    <tr>\n",
       "      <th>...</th>\n",
       "      <td>...</td>\n",
       "      <td>...</td>\n",
       "    </tr>\n",
       "    <tr>\n",
       "      <th>The Oval</th>\n",
       "      <td>4</td>\n",
       "      <td>0</td>\n",
       "    </tr>\n",
       "    <tr>\n",
       "      <th>Toronto</th>\n",
       "      <td>11</td>\n",
       "      <td>0</td>\n",
       "    </tr>\n",
       "    <tr>\n",
       "      <th>Vadodara</th>\n",
       "      <td>4</td>\n",
       "      <td>2</td>\n",
       "    </tr>\n",
       "    <tr>\n",
       "      <th>Visakhapatnam</th>\n",
       "      <td>2</td>\n",
       "      <td>0</td>\n",
       "    </tr>\n",
       "    <tr>\n",
       "      <th>Wellington</th>\n",
       "      <td>3</td>\n",
       "      <td>0</td>\n",
       "    </tr>\n",
       "  </tbody>\n",
       "</table>\n",
       "<p>85 rows × 2 columns</p>\n",
       "</div>"
      ],
      "text/plain": [
       "century        False  True \n",
       "Ground                     \n",
       "Adelaide           5      0\n",
       "Ahmedabad          3      1\n",
       "Amritsar           1      0\n",
       "Auckland           2      0\n",
       "Belfast            4      0\n",
       "...              ...    ...\n",
       "The Oval           4      0\n",
       "Toronto           11      0\n",
       "Vadodara           4      2\n",
       "Visakhapatnam      2      0\n",
       "Wellington         3      0\n",
       "\n",
       "[85 rows x 2 columns]"
      ]
     },
     "execution_count": 22,
     "metadata": {},
     "output_type": "execute_result"
    }
   ],
   "source": [
    "crosstab(\"Ground\",\"century\")"
   ]
  },
  {
   "cell_type": "markdown",
   "id": "1a0d81ff",
   "metadata": {},
   "source": [
    "H0: There is no statistically significant relationship between Sachin's century and ground.\n",
    "\n",
    "HA: There is a statistically significant relationship between Sachin's century and ground.\n",
    "\n",
    "Significance level= 5%"
   ]
  },
  {
   "cell_type": "code",
   "execution_count": 23,
   "id": "58b5e09a",
   "metadata": {},
   "outputs": [
    {
     "name": "stdout",
     "output_type": "stream",
     "text": [
      "p-value= 0.15959923768897666\n",
      "Failed to Reject H0 at a 5.0% significance level\n"
     ]
    }
   ],
   "source": [
    "p=chi2test(\"Ground\",\"century\")\n",
    "accept_reject(p)"
   ]
  },
  {
   "cell_type": "markdown",
   "id": "ed0dde5d",
   "metadata": {},
   "source": [
    "Hence, We accept that There is no statistically significant relationship between Sachin's century and the ground."
   ]
  },
  {
   "cell_type": "markdown",
   "id": "7925bd57",
   "metadata": {},
   "source": [
    "--------------------------------------------------------------------------------------------------------------------------------"
   ]
  },
  {
   "cell_type": "markdown",
   "id": "4a02af7c",
   "metadata": {},
   "source": [
    "--------------------------------------------------------------------------------------------------------------------------------"
   ]
  },
  {
   "cell_type": "code",
   "execution_count": 24,
   "id": "536139d2",
   "metadata": {},
   "outputs": [
    {
     "data": {
      "text/html": [
       "<div>\n",
       "<style scoped>\n",
       "    .dataframe tbody tr th:only-of-type {\n",
       "        vertical-align: middle;\n",
       "    }\n",
       "\n",
       "    .dataframe tbody tr th {\n",
       "        vertical-align: top;\n",
       "    }\n",
       "\n",
       "    .dataframe thead th {\n",
       "        text-align: right;\n",
       "    }\n",
       "</style>\n",
       "<table border=\"1\" class=\"dataframe\">\n",
       "  <thead>\n",
       "    <tr style=\"text-align: right;\">\n",
       "      <th>century</th>\n",
       "      <th>False</th>\n",
       "      <th>True</th>\n",
       "    </tr>\n",
       "    <tr>\n",
       "      <th>Opp</th>\n",
       "      <th></th>\n",
       "      <th></th>\n",
       "    </tr>\n",
       "  </thead>\n",
       "  <tbody>\n",
       "    <tr>\n",
       "      <th>Australia</th>\n",
       "      <td>53</td>\n",
       "      <td>8</td>\n",
       "    </tr>\n",
       "    <tr>\n",
       "      <th>Bangladesh</th>\n",
       "      <td>9</td>\n",
       "      <td>1</td>\n",
       "    </tr>\n",
       "    <tr>\n",
       "      <th>Bermuda</th>\n",
       "      <td>1</td>\n",
       "      <td>0</td>\n",
       "    </tr>\n",
       "    <tr>\n",
       "      <th>England</th>\n",
       "      <td>23</td>\n",
       "      <td>2</td>\n",
       "    </tr>\n",
       "    <tr>\n",
       "      <th>Ireland</th>\n",
       "      <td>2</td>\n",
       "      <td>0</td>\n",
       "    </tr>\n",
       "    <tr>\n",
       "      <th>Kenya</th>\n",
       "      <td>5</td>\n",
       "      <td>4</td>\n",
       "    </tr>\n",
       "    <tr>\n",
       "      <th>Namibia</th>\n",
       "      <td>0</td>\n",
       "      <td>1</td>\n",
       "    </tr>\n",
       "    <tr>\n",
       "      <th>Netherlands</th>\n",
       "      <td>2</td>\n",
       "      <td>0</td>\n",
       "    </tr>\n",
       "    <tr>\n",
       "      <th>New Zealand</th>\n",
       "      <td>28</td>\n",
       "      <td>4</td>\n",
       "    </tr>\n",
       "    <tr>\n",
       "      <th>Pakistan</th>\n",
       "      <td>54</td>\n",
       "      <td>5</td>\n",
       "    </tr>\n",
       "    <tr>\n",
       "      <th>South Africa</th>\n",
       "      <td>39</td>\n",
       "      <td>5</td>\n",
       "    </tr>\n",
       "    <tr>\n",
       "      <th>Sri Lanka</th>\n",
       "      <td>55</td>\n",
       "      <td>8</td>\n",
       "    </tr>\n",
       "    <tr>\n",
       "      <th>U.A.E.</th>\n",
       "      <td>1</td>\n",
       "      <td>0</td>\n",
       "    </tr>\n",
       "    <tr>\n",
       "      <th>West Indies</th>\n",
       "      <td>19</td>\n",
       "      <td>3</td>\n",
       "    </tr>\n",
       "    <tr>\n",
       "      <th>Zimbabwe</th>\n",
       "      <td>23</td>\n",
       "      <td>5</td>\n",
       "    </tr>\n",
       "  </tbody>\n",
       "</table>\n",
       "</div>"
      ],
      "text/plain": [
       "century       False  True \n",
       "Opp                       \n",
       "Australia        53      8\n",
       "Bangladesh        9      1\n",
       "Bermuda           1      0\n",
       "England          23      2\n",
       "Ireland           2      0\n",
       "Kenya             5      4\n",
       "Namibia           0      1\n",
       "Netherlands       2      0\n",
       "New Zealand      28      4\n",
       "Pakistan         54      5\n",
       "South Africa     39      5\n",
       "Sri Lanka        55      8\n",
       "U.A.E.            1      0\n",
       "West Indies      19      3\n",
       "Zimbabwe         23      5"
      ]
     },
     "execution_count": 24,
     "metadata": {},
     "output_type": "execute_result"
    }
   ],
   "source": [
    "crosstab(\"Opp\",\"century\")"
   ]
  },
  {
   "cell_type": "markdown",
   "id": "7c7ef108",
   "metadata": {},
   "source": [
    "H0: There is no significant relationship relationship between Sachin's century and Opposition.\n",
    "\n",
    "HA: There is a statistically significant relationship between Sachin's century and Opposition.\n",
    "\n",
    "Significance level= 5%"
   ]
  },
  {
   "cell_type": "code",
   "execution_count": 25,
   "id": "9d0c651a",
   "metadata": {},
   "outputs": [
    {
     "name": "stdout",
     "output_type": "stream",
     "text": [
      "p-value= 0.20159960746150968\n",
      "Failed to Reject H0 at a 5.0% significance level\n"
     ]
    }
   ],
   "source": [
    "p=chi2test(\"Opp\",\"century\")\n",
    "accept_reject(p)"
   ]
  },
  {
   "cell_type": "markdown",
   "id": "b3a05aae",
   "metadata": {},
   "source": [
    "Hence, We accept that There is no statistically significant relationship between Sachin's century and Opposition."
   ]
  },
  {
   "cell_type": "markdown",
   "id": "b1c7ac3a",
   "metadata": {},
   "source": [
    "--------------------------------------------------------------------------------------------------------------------------------"
   ]
  },
  {
   "cell_type": "markdown",
   "id": "53a593d0",
   "metadata": {},
   "source": [
    "--------------------------------------------------------------------------------------------------------------------------------"
   ]
  },
  {
   "cell_type": "code",
   "execution_count": 26,
   "id": "212a43ac",
   "metadata": {},
   "outputs": [
    {
     "data": {
      "text/html": [
       "<div>\n",
       "<style scoped>\n",
       "    .dataframe tbody tr th:only-of-type {\n",
       "        vertical-align: middle;\n",
       "    }\n",
       "\n",
       "    .dataframe tbody tr th {\n",
       "        vertical-align: top;\n",
       "    }\n",
       "\n",
       "    .dataframe thead th {\n",
       "        text-align: right;\n",
       "    }\n",
       "</style>\n",
       "<table border=\"1\" class=\"dataframe\">\n",
       "  <thead>\n",
       "    <tr style=\"text-align: right;\">\n",
       "      <th>century</th>\n",
       "      <th>False</th>\n",
       "      <th>True</th>\n",
       "    </tr>\n",
       "    <tr>\n",
       "      <th>month</th>\n",
       "      <th></th>\n",
       "      <th></th>\n",
       "    </tr>\n",
       "  </thead>\n",
       "  <tbody>\n",
       "    <tr>\n",
       "      <th>1</th>\n",
       "      <td>37</td>\n",
       "      <td>1</td>\n",
       "    </tr>\n",
       "    <tr>\n",
       "      <th>2</th>\n",
       "      <td>43</td>\n",
       "      <td>6</td>\n",
       "    </tr>\n",
       "    <tr>\n",
       "      <th>3</th>\n",
       "      <td>36</td>\n",
       "      <td>8</td>\n",
       "    </tr>\n",
       "    <tr>\n",
       "      <th>4</th>\n",
       "      <td>26</td>\n",
       "      <td>7</td>\n",
       "    </tr>\n",
       "    <tr>\n",
       "      <th>5</th>\n",
       "      <td>9</td>\n",
       "      <td>3</td>\n",
       "    </tr>\n",
       "    <tr>\n",
       "      <th>6</th>\n",
       "      <td>16</td>\n",
       "      <td>0</td>\n",
       "    </tr>\n",
       "    <tr>\n",
       "      <th>7</th>\n",
       "      <td>14</td>\n",
       "      <td>4</td>\n",
       "    </tr>\n",
       "    <tr>\n",
       "      <th>8</th>\n",
       "      <td>11</td>\n",
       "      <td>2</td>\n",
       "    </tr>\n",
       "    <tr>\n",
       "      <th>9</th>\n",
       "      <td>34</td>\n",
       "      <td>3</td>\n",
       "    </tr>\n",
       "    <tr>\n",
       "      <th>10</th>\n",
       "      <td>34</td>\n",
       "      <td>5</td>\n",
       "    </tr>\n",
       "    <tr>\n",
       "      <th>11</th>\n",
       "      <td>38</td>\n",
       "      <td>5</td>\n",
       "    </tr>\n",
       "    <tr>\n",
       "      <th>12</th>\n",
       "      <td>16</td>\n",
       "      <td>2</td>\n",
       "    </tr>\n",
       "  </tbody>\n",
       "</table>\n",
       "</div>"
      ],
      "text/plain": [
       "century  False  True \n",
       "month                \n",
       "1           37      1\n",
       "2           43      6\n",
       "3           36      8\n",
       "4           26      7\n",
       "5            9      3\n",
       "6           16      0\n",
       "7           14      4\n",
       "8           11      2\n",
       "9           34      3\n",
       "10          34      5\n",
       "11          38      5\n",
       "12          16      2"
      ]
     },
     "execution_count": 26,
     "metadata": {},
     "output_type": "execute_result"
    }
   ],
   "source": [
    "crosstab(\"month\",\"century\")"
   ]
  },
  {
   "cell_type": "markdown",
   "id": "8260ffe4",
   "metadata": {},
   "source": [
    "H0: There is no significant relationship relationship between Sachin hitting a century and Month of the year.\n",
    "\n",
    "HA: There is a statistically significant relationship between Sachin hitting a century and Month of the year.\n",
    "\n",
    "Significance level= 5%"
   ]
  },
  {
   "cell_type": "code",
   "execution_count": 27,
   "id": "0523bf18",
   "metadata": {},
   "outputs": [
    {
     "name": "stdout",
     "output_type": "stream",
     "text": [
      "p-value= 0.28852323779846606\n",
      "Failed to Reject H0 at a 5.0% significance level\n"
     ]
    }
   ],
   "source": [
    "p=chi2test(\"month\",\"century\")\n",
    "accept_reject(p)"
   ]
  },
  {
   "cell_type": "markdown",
   "id": "f1aa80f5",
   "metadata": {},
   "source": [
    "Hence, We accept that There is no significant relationship relationship between Sachin hitting a century and Month of the year."
   ]
  },
  {
   "cell_type": "markdown",
   "id": "d9a44ab4",
   "metadata": {},
   "source": [
    "--------------------------------------------------------------------------------------------------------------------------------"
   ]
  },
  {
   "cell_type": "markdown",
   "id": "98857af5",
   "metadata": {},
   "source": [
    "--------------------------------------------------------------------------------------------------------------------------------"
   ]
  },
  {
   "cell_type": "code",
   "execution_count": 28,
   "id": "b194b1e9",
   "metadata": {},
   "outputs": [
    {
     "data": {
      "text/html": [
       "<div>\n",
       "<style scoped>\n",
       "    .dataframe tbody tr th:only-of-type {\n",
       "        vertical-align: middle;\n",
       "    }\n",
       "\n",
       "    .dataframe tbody tr th {\n",
       "        vertical-align: top;\n",
       "    }\n",
       "\n",
       "    .dataframe thead th {\n",
       "        text-align: right;\n",
       "    }\n",
       "</style>\n",
       "<table border=\"1\" class=\"dataframe\">\n",
       "  <thead>\n",
       "    <tr style=\"text-align: right;\">\n",
       "      <th></th>\n",
       "      <th>avg_runs</th>\n",
       "    </tr>\n",
       "    <tr>\n",
       "      <th>Won</th>\n",
       "      <th></th>\n",
       "    </tr>\n",
       "  </thead>\n",
       "  <tbody>\n",
       "    <tr>\n",
       "      <th>False</th>\n",
       "      <td>35.130682</td>\n",
       "    </tr>\n",
       "    <tr>\n",
       "      <th>True</th>\n",
       "      <td>51.000000</td>\n",
       "    </tr>\n",
       "  </tbody>\n",
       "</table>\n",
       "</div>"
      ],
      "text/plain": [
       "        avg_runs\n",
       "Won             \n",
       "False  35.130682\n",
       "True   51.000000"
      ]
     },
     "execution_count": 28,
     "metadata": {},
     "output_type": "execute_result"
    }
   ],
   "source": [
    "data.groupby(\"Won\").agg(avg_runs=(\"runs\",\"mean\"))"
   ]
  },
  {
   "cell_type": "markdown",
   "id": "32dd7e9d",
   "metadata": {},
   "source": [
    "H0: There is no difference in average runs scored by Sachin in Won/Lost matches.\n",
    "    \n",
    "HA: Average runs scored by Sachin in Won matches is greater than those scored in lost matches.\n",
    "\n",
    "Significance Level= 5%"
   ]
  },
  {
   "cell_type": "code",
   "execution_count": 29,
   "id": "a3f6482e",
   "metadata": {},
   "outputs": [],
   "source": [
    "won_runs=data.loc[data[\"Won\"]==True,\"runs\"]\n",
    "loss_runs=data.loc[data[\"Won\"]==False,\"runs\"]"
   ]
  },
  {
   "cell_type": "code",
   "execution_count": 30,
   "id": "d257b88a",
   "metadata": {},
   "outputs": [
    {
     "name": "stdout",
     "output_type": "stream",
     "text": [
      "p-value= 0.00016353077486826558\n",
      "Reject H0 at a 5.0% significance level\n"
     ]
    }
   ],
   "source": [
    "_,p=stats.ttest_ind(won_runs,loss_runs,alternative=\"greater\")\n",
    "accept_reject(p)"
   ]
  },
  {
   "cell_type": "markdown",
   "id": "c3479459",
   "metadata": {},
   "source": [
    "Therefore, Average runs scored by Sachin in Won matches is greater than those scored in lost matches."
   ]
  },
  {
   "cell_type": "markdown",
   "id": "ffd10beb",
   "metadata": {},
   "source": [
    "--------------------------------------------------------------------------------------------------------------------------------"
   ]
  },
  {
   "cell_type": "markdown",
   "id": "ffe906fa",
   "metadata": {},
   "source": [
    "--------------------------------------------------------------------------------------------------------------------------------"
   ]
  },
  {
   "cell_type": "code",
   "execution_count": 76,
   "id": "27c15936",
   "metadata": {
    "scrolled": false
   },
   "outputs": [
    {
     "data": {
      "text/html": [
       "<div>\n",
       "<style scoped>\n",
       "    .dataframe tbody tr th:only-of-type {\n",
       "        vertical-align: middle;\n",
       "    }\n",
       "\n",
       "    .dataframe tbody tr th {\n",
       "        vertical-align: top;\n",
       "    }\n",
       "\n",
       "    .dataframe thead th {\n",
       "        text-align: right;\n",
       "    }\n",
       "</style>\n",
       "<table border=\"1\" class=\"dataframe\">\n",
       "  <thead>\n",
       "    <tr style=\"text-align: right;\">\n",
       "      <th></th>\n",
       "      <th>avg_runs</th>\n",
       "    </tr>\n",
       "    <tr>\n",
       "      <th>Opp</th>\n",
       "      <th></th>\n",
       "    </tr>\n",
       "  </thead>\n",
       "  <tbody>\n",
       "    <tr>\n",
       "      <th>Australia</th>\n",
       "      <td>44.786885</td>\n",
       "    </tr>\n",
       "    <tr>\n",
       "      <th>Bangladesh</th>\n",
       "      <td>46.000000</td>\n",
       "    </tr>\n",
       "    <tr>\n",
       "      <th>Bermuda</th>\n",
       "      <td>57.000000</td>\n",
       "    </tr>\n",
       "    <tr>\n",
       "      <th>England</th>\n",
       "      <td>46.720000</td>\n",
       "    </tr>\n",
       "    <tr>\n",
       "      <th>Ireland</th>\n",
       "      <td>21.000000</td>\n",
       "    </tr>\n",
       "    <tr>\n",
       "      <th>Kenya</th>\n",
       "      <td>71.888889</td>\n",
       "    </tr>\n",
       "    <tr>\n",
       "      <th>Namibia</th>\n",
       "      <td>152.000000</td>\n",
       "    </tr>\n",
       "    <tr>\n",
       "      <th>Netherlands</th>\n",
       "      <td>39.500000</td>\n",
       "    </tr>\n",
       "    <tr>\n",
       "      <th>New Zealand</th>\n",
       "      <td>39.156250</td>\n",
       "    </tr>\n",
       "    <tr>\n",
       "      <th>Pakistan</th>\n",
       "      <td>38.203390</td>\n",
       "    </tr>\n",
       "    <tr>\n",
       "      <th>South Africa</th>\n",
       "      <td>39.954545</td>\n",
       "    </tr>\n",
       "    <tr>\n",
       "      <th>Sri Lanka</th>\n",
       "      <td>43.761905</td>\n",
       "    </tr>\n",
       "    <tr>\n",
       "      <th>U.A.E.</th>\n",
       "      <td>18.000000</td>\n",
       "    </tr>\n",
       "    <tr>\n",
       "      <th>West Indies</th>\n",
       "      <td>44.000000</td>\n",
       "    </tr>\n",
       "    <tr>\n",
       "      <th>Zimbabwe</th>\n",
       "      <td>43.642857</td>\n",
       "    </tr>\n",
       "  </tbody>\n",
       "</table>\n",
       "</div>"
      ],
      "text/plain": [
       "                avg_runs\n",
       "Opp                     \n",
       "Australia      44.786885\n",
       "Bangladesh     46.000000\n",
       "Bermuda        57.000000\n",
       "England        46.720000\n",
       "Ireland        21.000000\n",
       "Kenya          71.888889\n",
       "Namibia       152.000000\n",
       "Netherlands    39.500000\n",
       "New Zealand    39.156250\n",
       "Pakistan       38.203390\n",
       "South Africa   39.954545\n",
       "Sri Lanka      43.761905\n",
       "U.A.E.         18.000000\n",
       "West Indies    44.000000\n",
       "Zimbabwe       43.642857"
      ]
     },
     "execution_count": 76,
     "metadata": {},
     "output_type": "execute_result"
    }
   ],
   "source": [
    "data.groupby(\"Opp\").agg(avg_runs=(\"runs\",\"mean\"))"
   ]
  },
  {
   "cell_type": "code",
   "execution_count": 63,
   "id": "8a79dcdb",
   "metadata": {},
   "outputs": [],
   "source": [
    "opp=data[\"Opp\"].unique()\n",
    "opp_var_name=list(map(lambda i: i.replace(\" \",\"_\"),opp))\n",
    "opp_var_name=list(map(lambda i: i.replace(\".\",\"_\"),opp_var_name))"
   ]
  },
  {
   "cell_type": "code",
   "execution_count": 70,
   "id": "7fa9abae",
   "metadata": {},
   "outputs": [],
   "source": [
    "for val,var in zip(opp,opp_var_name):\n",
    "    globals()[var]=data.loc[data[\"Opp\"]==val,\"runs\"]"
   ]
  },
  {
   "cell_type": "code",
   "execution_count": 71,
   "id": "98e30f4f",
   "metadata": {},
   "outputs": [
    {
     "name": "stdout",
     "output_type": "stream",
     "text": [
      "New_Zealand,South_Africa,Australia,Bangladesh,Pakistan,Sri_Lanka,Kenya,West_Indies,Zimbabwe,England,Netherlands,Namibia,U_A_E_,Bermuda,Ireland\n"
     ]
    }
   ],
   "source": [
    "#generating parameter for kruskal test\n",
    "for index,val in enumerate(opp_var_name):\n",
    "    if index!=len(opp_var_name)-1:\n",
    "        print(val,end=\",\")\n",
    "    else:\n",
    "        print(val)"
   ]
  },
  {
   "cell_type": "markdown",
   "id": "d976b9dc",
   "metadata": {},
   "source": [
    "H0: There is no statistically significant difference in average runs scored by Sachin Against different opponents.\n",
    "    \n",
    "HA: There is a statistically significant difference in average runs scored by Sachin Against different opponents..\n",
    "\n",
    "Significance Level= 5%"
   ]
  },
  {
   "cell_type": "code",
   "execution_count": 73,
   "id": "44f5f041",
   "metadata": {},
   "outputs": [
    {
     "name": "stdout",
     "output_type": "stream",
     "text": [
      "p-value= 0.7033827783014067\n",
      "Failed to Reject H0 at a 5.0% significance level\n"
     ]
    }
   ],
   "source": [
    "_,p=stats.kruskal(New_Zealand,South_Africa,Australia,Bangladesh,Pakistan,Sri_Lanka,Kenya,\n",
    "              West_Indies,Zimbabwe,England,Netherlands,Namibia,U_A_E_,Bermuda,Ireland)\n",
    "accept_reject(p)"
   ]
  },
  {
   "cell_type": "markdown",
   "id": "7aa79bfd",
   "metadata": {},
   "source": [
    "Hence, We accept that there is no statistically significant difference in average runs scored by Sachin Against different opponents."
   ]
  },
  {
   "cell_type": "markdown",
   "id": "85813e80",
   "metadata": {},
   "source": [
    "--------------------------------------------------------------------------------------------------------------------------------"
   ]
  },
  {
   "cell_type": "markdown",
   "id": "8181292a",
   "metadata": {},
   "source": [
    "--------------------------------------------------------------------------------------------------------------------------------"
   ]
  },
  {
   "cell_type": "code",
   "execution_count": 31,
   "id": "f92b37a6",
   "metadata": {},
   "outputs": [
    {
     "data": {
      "text/html": [
       "<div>\n",
       "<style scoped>\n",
       "    .dataframe tbody tr th:only-of-type {\n",
       "        vertical-align: middle;\n",
       "    }\n",
       "\n",
       "    .dataframe tbody tr th {\n",
       "        vertical-align: top;\n",
       "    }\n",
       "\n",
       "    .dataframe thead th {\n",
       "        text-align: right;\n",
       "    }\n",
       "</style>\n",
       "<table border=\"1\" class=\"dataframe\">\n",
       "  <thead>\n",
       "    <tr style=\"text-align: right;\">\n",
       "      <th></th>\n",
       "      <th>avg_runs</th>\n",
       "    </tr>\n",
       "    <tr>\n",
       "      <th>Inns</th>\n",
       "      <th></th>\n",
       "    </tr>\n",
       "  </thead>\n",
       "  <tbody>\n",
       "    <tr>\n",
       "      <th>1</th>\n",
       "      <td>46.670588</td>\n",
       "    </tr>\n",
       "    <tr>\n",
       "      <th>2</th>\n",
       "      <td>40.173684</td>\n",
       "    </tr>\n",
       "  </tbody>\n",
       "</table>\n",
       "</div>"
      ],
      "text/plain": [
       "       avg_runs\n",
       "Inns           \n",
       "1     46.670588\n",
       "2     40.173684"
      ]
     },
     "execution_count": 31,
     "metadata": {},
     "output_type": "execute_result"
    }
   ],
   "source": [
    "data.groupby(\"Inns\").agg(avg_runs=(\"runs\",\"mean\"))"
   ]
  },
  {
   "cell_type": "markdown",
   "id": "e1fa3624",
   "metadata": {},
   "source": [
    "H0: There is no statistically significant difference between the Average runs scored by Sachin in First and Second Innings.\n",
    "    \n",
    "HA: There is a statistically significant difference between the Average runs scored by Sachin in First and Second Innings.\n",
    "\n",
    "Significance Level= 5%"
   ]
  },
  {
   "cell_type": "code",
   "execution_count": 32,
   "id": "05c23f79",
   "metadata": {},
   "outputs": [],
   "source": [
    "first_inns_runs=data.loc[data[\"Inns\"]==\"1\",\"runs\"]\n",
    "second_inns_runs=data.loc[data[\"Inns\"]==\"2\",\"runs\"]"
   ]
  },
  {
   "cell_type": "code",
   "execution_count": 33,
   "id": "20b6e01f",
   "metadata": {},
   "outputs": [
    {
     "name": "stdout",
     "output_type": "stream",
     "text": [
      "p-value= nan\n",
      "Failed to Reject H0 at a 5.0% significance level\n"
     ]
    }
   ],
   "source": [
    "_,p=stats.ttest_ind(first_inns_runs,second_inns_runs)\n",
    "accept_reject(p)"
   ]
  },
  {
   "cell_type": "markdown",
   "id": "c06f8c0a",
   "metadata": {},
   "source": [
    "Hence, We accept that there is no statistically significant difference between the Average runs scored by Sachin in First and Second Innings."
   ]
  },
  {
   "cell_type": "markdown",
   "id": "c064f98a",
   "metadata": {},
   "source": [
    "--------------------------------------------------------------------------------------------------------------------------------"
   ]
  },
  {
   "cell_type": "markdown",
   "id": "a0646bfd",
   "metadata": {},
   "source": [
    "--------------------------------------------------------------------------------------------------------------------------------"
   ]
  },
  {
   "cell_type": "code",
   "execution_count": 34,
   "id": "cd136fab",
   "metadata": {},
   "outputs": [
    {
     "data": {
      "text/html": [
       "<div>\n",
       "<style scoped>\n",
       "    .dataframe tbody tr th:only-of-type {\n",
       "        vertical-align: middle;\n",
       "    }\n",
       "\n",
       "    .dataframe tbody tr th {\n",
       "        vertical-align: top;\n",
       "    }\n",
       "\n",
       "    .dataframe thead th {\n",
       "        text-align: right;\n",
       "    }\n",
       "</style>\n",
       "<table border=\"1\" class=\"dataframe\">\n",
       "  <thead>\n",
       "    <tr style=\"text-align: right;\">\n",
       "      <th></th>\n",
       "      <th>avg_strikerate</th>\n",
       "    </tr>\n",
       "    <tr>\n",
       "      <th>Inns</th>\n",
       "      <th></th>\n",
       "    </tr>\n",
       "  </thead>\n",
       "  <tbody>\n",
       "    <tr>\n",
       "      <th>1</th>\n",
       "      <td>73.133235</td>\n",
       "    </tr>\n",
       "    <tr>\n",
       "      <th>2</th>\n",
       "      <td>77.229316</td>\n",
       "    </tr>\n",
       "  </tbody>\n",
       "</table>\n",
       "</div>"
      ],
      "text/plain": [
       "      avg_strikerate\n",
       "Inns                \n",
       "1          73.133235\n",
       "2          77.229316"
      ]
     },
     "execution_count": 34,
     "metadata": {},
     "output_type": "execute_result"
    }
   ],
   "source": [
    "data.groupby(\"Inns\").agg(avg_strikerate=(\"sr\",\"mean\"))"
   ]
  },
  {
   "cell_type": "markdown",
   "id": "24a4f5b8",
   "metadata": {},
   "source": [
    "H0: There is no statistically significant difference between the Average Strike Rate of Sachin across First and Second Innings.\n",
    "    \n",
    "HA: There is a statistically significant difference between the Average Strike Rate of Sachin across First and Second Innings.\n",
    "\n",
    "Significance Level= 5%"
   ]
  },
  {
   "cell_type": "code",
   "execution_count": 35,
   "id": "2db483c6",
   "metadata": {},
   "outputs": [],
   "source": [
    "first_inns_sr=data.loc[data[\"Inns\"]==\"1\",\"sr\"]\n",
    "second_inns_sr=data.loc[data[\"Inns\"]==\"2\",\"sr\"]"
   ]
  },
  {
   "cell_type": "code",
   "execution_count": 36,
   "id": "4097e68b",
   "metadata": {},
   "outputs": [
    {
     "name": "stdout",
     "output_type": "stream",
     "text": [
      "p-value= nan\n",
      "Failed to Reject H0 at a 5.0% significance level\n"
     ]
    }
   ],
   "source": [
    "_,p=stats.ttest_ind(first_inns_sr,second_inns_sr)\n",
    "accept_reject(p)"
   ]
  },
  {
   "cell_type": "markdown",
   "id": "95f60271",
   "metadata": {},
   "source": [
    "Hence, We accept that there is no statistically significant difference between the Average Strike Rate of Sachin across First and Second Innings."
   ]
  },
  {
   "cell_type": "markdown",
   "id": "95318f58",
   "metadata": {},
   "source": [
    "--------------------------------------------------------------------------------------------------------------------------------"
   ]
  },
  {
   "cell_type": "markdown",
   "id": "1cf29b4a",
   "metadata": {},
   "source": [
    "--------------------------------------------------------------------------------------------------------------------------------"
   ]
  },
  {
   "cell_type": "code",
   "execution_count": 37,
   "id": "8000d6a9",
   "metadata": {},
   "outputs": [
    {
     "data": {
      "text/html": [
       "<div>\n",
       "<style scoped>\n",
       "    .dataframe tbody tr th:only-of-type {\n",
       "        vertical-align: middle;\n",
       "    }\n",
       "\n",
       "    .dataframe tbody tr th {\n",
       "        vertical-align: top;\n",
       "    }\n",
       "\n",
       "    .dataframe thead th {\n",
       "        text-align: right;\n",
       "    }\n",
       "</style>\n",
       "<table border=\"1\" class=\"dataframe\">\n",
       "  <thead>\n",
       "    <tr style=\"text-align: right;\">\n",
       "      <th></th>\n",
       "      <th>avg_balls_faced</th>\n",
       "    </tr>\n",
       "    <tr>\n",
       "      <th>Inns</th>\n",
       "      <th></th>\n",
       "    </tr>\n",
       "  </thead>\n",
       "  <tbody>\n",
       "    <tr>\n",
       "      <th>1</th>\n",
       "      <td>54.405882</td>\n",
       "    </tr>\n",
       "    <tr>\n",
       "      <th>2</th>\n",
       "      <td>44.910526</td>\n",
       "    </tr>\n",
       "  </tbody>\n",
       "</table>\n",
       "</div>"
      ],
      "text/plain": [
       "      avg_balls_faced\n",
       "Inns                 \n",
       "1           54.405882\n",
       "2           44.910526"
      ]
     },
     "execution_count": 37,
     "metadata": {},
     "output_type": "execute_result"
    }
   ],
   "source": [
    "data.groupby(\"Inns\").agg(avg_balls_faced=(\"bf\",\"mean\"))"
   ]
  },
  {
   "cell_type": "markdown",
   "id": "4ed14fd0",
   "metadata": {},
   "source": [
    "H0: There is no statistically significant difference between the Average Balls Faced by Sachin during First and Second Innings.\n",
    "    \n",
    "HA: There is a statistically significant difference between the Average Balls Faced by Sachin during First and Second Innings.\n",
    "\n",
    "Significance Level= 5%"
   ]
  },
  {
   "cell_type": "code",
   "execution_count": 38,
   "id": "7f295260",
   "metadata": {},
   "outputs": [],
   "source": [
    "first_inns_bf=data.loc[data[\"Inns\"]==\"1\",\"bf\"]\n",
    "second_inns_bf=data.loc[data[\"Inns\"]==\"2\",\"bf\"]"
   ]
  },
  {
   "cell_type": "code",
   "execution_count": 39,
   "id": "52ee7e9f",
   "metadata": {},
   "outputs": [
    {
     "name": "stdout",
     "output_type": "stream",
     "text": [
      "p-value= nan\n",
      "Failed to Reject H0 at a 5.0% significance level\n"
     ]
    }
   ],
   "source": [
    "_,p=stats.ttest_ind(first_inns_bf,second_inns_bf,alternative=\"greater\")\n",
    "accept_reject(p)"
   ]
  },
  {
   "cell_type": "markdown",
   "id": "dff60503",
   "metadata": {},
   "source": [
    "Hence, There is a statistically significant difference between the Average Balls Faced by Sachin during First and Second Innings."
   ]
  },
  {
   "cell_type": "markdown",
   "id": "c7b2abb4",
   "metadata": {},
   "source": [
    "--------------------------------------------------------------------------------------------------------------------------------"
   ]
  },
  {
   "cell_type": "markdown",
   "id": "6cc87cb0",
   "metadata": {},
   "source": [
    "--------------------------------------------------------------------------------------------------------------------------------"
   ]
  },
  {
   "cell_type": "code",
   "execution_count": 40,
   "id": "6511300d",
   "metadata": {},
   "outputs": [
    {
     "data": {
      "text/html": [
       "<div>\n",
       "<style scoped>\n",
       "    .dataframe tbody tr th:only-of-type {\n",
       "        vertical-align: middle;\n",
       "    }\n",
       "\n",
       "    .dataframe tbody tr th {\n",
       "        vertical-align: top;\n",
       "    }\n",
       "\n",
       "    .dataframe thead th {\n",
       "        text-align: right;\n",
       "    }\n",
       "</style>\n",
       "<table border=\"1\" class=\"dataframe\">\n",
       "  <thead>\n",
       "    <tr style=\"text-align: right;\">\n",
       "      <th></th>\n",
       "      <th>avg_runs</th>\n",
       "    </tr>\n",
       "    <tr>\n",
       "      <th>month</th>\n",
       "      <th></th>\n",
       "    </tr>\n",
       "  </thead>\n",
       "  <tbody>\n",
       "    <tr>\n",
       "      <th>1</th>\n",
       "      <td>32.026316</td>\n",
       "    </tr>\n",
       "    <tr>\n",
       "      <th>2</th>\n",
       "      <td>41.734694</td>\n",
       "    </tr>\n",
       "    <tr>\n",
       "      <th>3</th>\n",
       "      <td>52.272727</td>\n",
       "    </tr>\n",
       "    <tr>\n",
       "      <th>4</th>\n",
       "      <td>43.848485</td>\n",
       "    </tr>\n",
       "    <tr>\n",
       "      <th>5</th>\n",
       "      <td>40.416667</td>\n",
       "    </tr>\n",
       "    <tr>\n",
       "      <th>6</th>\n",
       "      <td>48.000000</td>\n",
       "    </tr>\n",
       "    <tr>\n",
       "      <th>7</th>\n",
       "      <td>48.388889</td>\n",
       "    </tr>\n",
       "    <tr>\n",
       "      <th>8</th>\n",
       "      <td>48.692308</td>\n",
       "    </tr>\n",
       "    <tr>\n",
       "      <th>9</th>\n",
       "      <td>36.243243</td>\n",
       "    </tr>\n",
       "    <tr>\n",
       "      <th>10</th>\n",
       "      <td>44.897436</td>\n",
       "    </tr>\n",
       "    <tr>\n",
       "      <th>11</th>\n",
       "      <td>41.581395</td>\n",
       "    </tr>\n",
       "    <tr>\n",
       "      <th>12</th>\n",
       "      <td>51.166667</td>\n",
       "    </tr>\n",
       "  </tbody>\n",
       "</table>\n",
       "</div>"
      ],
      "text/plain": [
       "        avg_runs\n",
       "month           \n",
       "1      32.026316\n",
       "2      41.734694\n",
       "3      52.272727\n",
       "4      43.848485\n",
       "5      40.416667\n",
       "6      48.000000\n",
       "7      48.388889\n",
       "8      48.692308\n",
       "9      36.243243\n",
       "10     44.897436\n",
       "11     41.581395\n",
       "12     51.166667"
      ]
     },
     "execution_count": 40,
     "metadata": {},
     "output_type": "execute_result"
    }
   ],
   "source": [
    "data.groupby(\"month\").agg(avg_runs=(\"runs\",\"mean\"))"
   ]
  },
  {
   "cell_type": "markdown",
   "id": "dd83afdd",
   "metadata": {},
   "source": [
    "H0: Runs scored is Normally Distributed\n",
    "\n",
    "HA: Runs scored is not Normally Distributed\n",
    "\n",
    "Significance Level: 5%"
   ]
  },
  {
   "cell_type": "code",
   "execution_count": 41,
   "id": "b87721ab",
   "metadata": {},
   "outputs": [
    {
     "name": "stdout",
     "output_type": "stream",
     "text": [
      "p-value= 3.7059399471249535e-12\n",
      "Reject H0 at a 5.0% significance level\n"
     ]
    }
   ],
   "source": [
    "_,p=stats.normaltest(data[\"runs\"])\n",
    "accept_reject(p)"
   ]
  },
  {
   "cell_type": "markdown",
   "id": "d8c5b66b",
   "metadata": {},
   "source": [
    "Hence, Runs scored is not Normally Distributed"
   ]
  },
  {
   "cell_type": "code",
   "execution_count": 42,
   "id": "e3f8bc37",
   "metadata": {},
   "outputs": [],
   "source": [
    "for i in list(data[\"Date\"].dt.month_name().unique()):\n",
    "    globals()[i]=data.loc[data[\"Date\"].dt.month_name()==i,\"runs\"]"
   ]
  },
  {
   "cell_type": "code",
   "execution_count": 43,
   "id": "db708b31",
   "metadata": {},
   "outputs": [
    {
     "name": "stdout",
     "output_type": "stream",
     "text": [
      "February,April,November,March,May,August,September,October,December,January,July,June\n"
     ]
    }
   ],
   "source": [
    "#generating parameter for kruskal test\n",
    "for index,mon in enumerate(list(data[\"Date\"].dt.month_name().unique())):\n",
    "    if index!=len(data[\"Date\"].dt.month_name().unique())-1:\n",
    "        print(mon,end=\",\")\n",
    "    else:\n",
    "        print(mon)"
   ]
  },
  {
   "cell_type": "markdown",
   "id": "f9cc287e",
   "metadata": {},
   "source": [
    "H0: There is no statistically significant difference in the average runs scored by Sachin during different months of the year.\n",
    "\n",
    "H0: There is a statistically significant difference in the average runs scored by Sachin during different months of the year.\n",
    "\n",
    "Significance Level: 5%"
   ]
  },
  {
   "cell_type": "code",
   "execution_count": 44,
   "id": "dbc03b10",
   "metadata": {},
   "outputs": [
    {
     "name": "stdout",
     "output_type": "stream",
     "text": [
      "p-value= 0.5396563116726798\n",
      "Failed to Reject H0 at a 5.0% significance level\n"
     ]
    }
   ],
   "source": [
    "_,p=stats.kruskal(February,April,November,March,May,August,September,October,December,January,July,June)\n",
    "accept_reject(p)"
   ]
  },
  {
   "cell_type": "markdown",
   "id": "44afb07f",
   "metadata": {},
   "source": [
    "Hence, We accept that there is no statistically significant difference in the average runs scored by Sachin during different months of the year."
   ]
  },
  {
   "cell_type": "markdown",
   "id": "afa13530",
   "metadata": {},
   "source": [
    "--------------------------------------------------------------------------------------------------------------------------------"
   ]
  },
  {
   "cell_type": "markdown",
   "id": "fd564ff1",
   "metadata": {},
   "source": [
    "--------------------------------------------------------------------------------------------------------------------------------"
   ]
  },
  {
   "cell_type": "code",
   "execution_count": 45,
   "id": "565c61ab",
   "metadata": {},
   "outputs": [],
   "source": [
    "mod_data=data[data[\"mins\"]!=\"-\"]"
   ]
  },
  {
   "cell_type": "code",
   "execution_count": 46,
   "id": "2988c58e",
   "metadata": {},
   "outputs": [],
   "source": [
    "mod_data[\"mins\"]=mod_data[\"mins\"].astype(\"float\")"
   ]
  },
  {
   "cell_type": "code",
   "execution_count": 47,
   "id": "4417120c",
   "metadata": {},
   "outputs": [
    {
     "data": {
      "text/html": [
       "<div>\n",
       "<style scoped>\n",
       "    .dataframe tbody tr th:only-of-type {\n",
       "        vertical-align: middle;\n",
       "    }\n",
       "\n",
       "    .dataframe tbody tr th {\n",
       "        vertical-align: top;\n",
       "    }\n",
       "\n",
       "    .dataframe thead th {\n",
       "        text-align: right;\n",
       "    }\n",
       "</style>\n",
       "<table border=\"1\" class=\"dataframe\">\n",
       "  <thead>\n",
       "    <tr style=\"text-align: right;\">\n",
       "      <th></th>\n",
       "      <th>avg_mins</th>\n",
       "    </tr>\n",
       "    <tr>\n",
       "      <th>Inns</th>\n",
       "      <th></th>\n",
       "    </tr>\n",
       "  </thead>\n",
       "  <tbody>\n",
       "    <tr>\n",
       "      <th>1</th>\n",
       "      <td>79.751592</td>\n",
       "    </tr>\n",
       "    <tr>\n",
       "      <th>2</th>\n",
       "      <td>70.751381</td>\n",
       "    </tr>\n",
       "  </tbody>\n",
       "</table>\n",
       "</div>"
      ],
      "text/plain": [
       "       avg_mins\n",
       "Inns           \n",
       "1     79.751592\n",
       "2     70.751381"
      ]
     },
     "execution_count": 47,
     "metadata": {},
     "output_type": "execute_result"
    }
   ],
   "source": [
    "mod_data.groupby(\"Inns\").agg(avg_mins=(\"mins\",\"mean\"))"
   ]
  },
  {
   "cell_type": "markdown",
   "id": "f6f0f7c5",
   "metadata": {},
   "source": [
    "H0: There is no statistically significant difference between the Average Minutes batted by Sachin during First and Second Innings.\n",
    "    \n",
    "HA: There is a statistically significant difference between the Average Minutes batted by Sachin during First and Second Innings.\n",
    "\n",
    "Significance Level= 5%"
   ]
  },
  {
   "cell_type": "code",
   "execution_count": 48,
   "id": "9f009b86",
   "metadata": {},
   "outputs": [],
   "source": [
    "first_inns_mins=mod_data.loc[mod_data[\"Inns\"]==\"1\",\"mins\"]\n",
    "second_inns_mins=mod_data.loc[mod_data[\"Inns\"]==\"2\",\"mins\"]"
   ]
  },
  {
   "cell_type": "code",
   "execution_count": 49,
   "id": "da646574",
   "metadata": {},
   "outputs": [
    {
     "name": "stdout",
     "output_type": "stream",
     "text": [
      "p-value= nan\n",
      "Failed to Reject H0 at a 5.0% significance level\n"
     ]
    }
   ],
   "source": [
    "_,p=stats.ttest_ind(first_inns_mins,second_inns_mins)\n",
    "accept_reject(p)"
   ]
  },
  {
   "cell_type": "markdown",
   "id": "0ec72b3f",
   "metadata": {},
   "source": [
    "Hence, We accept that there is no statistically significant difference between the Average Minutes batted by Sachin during First and Second Innings."
   ]
  },
  {
   "cell_type": "markdown",
   "id": "01fa3e28",
   "metadata": {},
   "source": [
    "--------------------------------------------------------------------------------------------------------------------------------"
   ]
  },
  {
   "cell_type": "markdown",
   "id": "4b893d92",
   "metadata": {},
   "source": [
    "--------------------------------------------------------------------------------------------------------------------------------"
   ]
  }
 ],
 "metadata": {
  "kernelspec": {
   "display_name": "Python 3 (ipykernel)",
   "language": "python",
   "name": "python3"
  },
  "language_info": {
   "codemirror_mode": {
    "name": "ipython",
    "version": 3
   },
   "file_extension": ".py",
   "mimetype": "text/x-python",
   "name": "python",
   "nbconvert_exporter": "python",
   "pygments_lexer": "ipython3",
   "version": "3.11.3"
  }
 },
 "nbformat": 4,
 "nbformat_minor": 5
}
